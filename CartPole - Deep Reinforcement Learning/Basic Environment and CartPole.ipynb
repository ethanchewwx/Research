{
 "cells": [
  {
   "cell_type": "markdown",
   "id": "cc3ac490-549f-42f4-b79d-8d65d6e35a7b",
   "metadata": {},
   "source": [
    "# Installing Libraries"
   ]
  },
  {
   "cell_type": "code",
   "execution_count": 9,
   "id": "daf59136-6879-4d42-9a3a-01c55b16f8c7",
   "metadata": {},
   "outputs": [],
   "source": [
    "import numpy as np\n",
    "import random\n",
    "import string\n",
    "import matplotlib.pyplot as plt\n",
    "import pandas as pd\n",
    "# import networkx as nx"
   ]
  },
  {
   "cell_type": "markdown",
   "id": "6a420bac-86a9-45c9-b401-e89654078a0b",
   "metadata": {},
   "source": [
    "# Basic Task"
   ]
  },
  {
   "cell_type": "markdown",
   "id": "9f1c3113-55fe-4847-a788-6a191578d0ef",
   "metadata": {},
   "source": [
    "# Defining RL Problem Statement, State and Action Space"
   ]
  },
  {
   "cell_type": "markdown",
   "id": "af6e86b2-ea11-46ca-af88-9f0e5ed525e2",
   "metadata": {},
   "source": [
    "![alt text](grid_fixed.jpg \"Title\")"
   ]
  },
  {
   "cell_type": "markdown",
   "id": "a60ea77e-3e6f-44d4-8756-2f23594747ac",
   "metadata": {},
   "source": [
    "Defining a reward of 300 for reaching the gold, 200 for reaching home, and -5 for all other actions"
   ]
  },
  {
   "cell_type": "code",
   "execution_count": 90,
   "id": "af86dc24-7019-4382-9fb4-2780e093cf32",
   "metadata": {},
   "outputs": [],
   "source": [
    "# setting up state and action space\n",
    "S = []\n",
    "A = []\n",
    "grid_dim = 5\n",
    "\n",
    "alphabet_string = string. ascii_uppercase\n",
    "for i in range(grid_dim**2):\n",
    "    S.append(alphabet_string[i])\n",
    "    A.append(alphabet_string[i])"
   ]
  },
  {
   "cell_type": "markdown",
   "id": "46308ae2-ea74-4680-a6b9-d012c36de39f",
   "metadata": {},
   "source": [
    "# Defining R Matrix"
   ]
  },
  {
   "cell_type": "code",
   "execution_count": 91,
   "id": "3ca40587-fcfc-41a3-96ec-16b9bb80d197",
   "metadata": {},
   "outputs": [
    {
     "data": {
      "text/plain": [
       "(25, 25)"
      ]
     },
     "execution_count": 91,
     "metadata": {},
     "output_type": "execute_result"
    }
   ],
   "source": [
    "# setting up reward matrix filled with NA's\n",
    "number_of_states = len(S)\n",
    "R =  np.empty((number_of_states, number_of_states))\n",
    "R[:] = np.NaN\n",
    "\n",
    "# checking shape of reward matrix\n",
    "R.shape"
   ]
  },
  {
   "cell_type": "code",
   "execution_count": 92,
   "id": "be17f49c-1784-4351-955d-e9df48806f44",
   "metadata": {},
   "outputs": [],
   "source": [
    "# getting all possible actions\n",
    "possible_actions = []\n",
    "for i in range(R.shape[0]):\n",
    "    # to the right of current state\n",
    "    if i % 5 != 4:\n",
    "        possible_actions.append((i, i+1))\n",
    "    # to the left of current state\n",
    "    if i % 5 != 0:\n",
    "        possible_actions.append((i, i-1))\n",
    "    # to the bottom of current state\n",
    "    if i < 20:\n",
    "        possible_actions.append((i, i + grid_dim))\n",
    "    # to the top of current state\n",
    "    if i > 4:\n",
    "        possible_actions.append((i, i - grid_dim))\n",
    "\n",
    "# updating reward matrix based on possible actions and \n",
    "for i, j in possible_actions:\n",
    "    if j == 12:\n",
    "        R[i, j] = 300\n",
    "    else:\n",
    "        R[i, j] = -5\n",
    "\n",
    "# print('R matrix:\\n\\n{}'.format(R))"
   ]
  },
  {
   "cell_type": "code",
   "execution_count": 93,
   "id": "b0b37ba1-90a1-4dea-ab75-f9b8cc8cb206",
   "metadata": {},
   "outputs": [],
   "source": [
    "# R"
   ]
  },
  {
   "cell_type": "markdown",
   "id": "043cfefa-144c-49e2-8ca8-97ad09b00c1c",
   "metadata": {},
   "source": [
    "# Defining Q Matrix"
   ]
  },
  {
   "cell_type": "code",
   "execution_count": 94,
   "id": "a1781f64-208e-4c2d-a9d6-75cf9b41d2b5",
   "metadata": {},
   "outputs": [],
   "source": [
    "Q = np.zeros(R.shape)\n",
    "\n",
    "# print('Q matrix:\\n\\n{}'.format(Q))"
   ]
  },
  {
   "cell_type": "markdown",
   "id": "240f6495-28f4-4b8b-8649-9ae1e68839c6",
   "metadata": {},
   "source": [
    "# Learning - Single Episode"
   ]
  },
  {
   "cell_type": "code",
   "execution_count": 61,
   "id": "ff50a2c2-f08b-437f-8419-5d90c000e624",
   "metadata": {},
   "outputs": [
    {
     "name": "stdout",
     "output_type": "stream",
     "text": [
      "Starting state is 'E'\n",
      "Iteration Number 1\n",
      "Available actions from state 'E' are: ['D', 'J']\n",
      "Q values for those actions from current state: [0.0, 0.0]\n",
      "Detected multiple actions with identical Q values. Agent will randomly select one of these.\n",
      "Our best available actions from here are: ['D', 'J'] with current q values: [0.0, 0.0]\n",
      "Selecting random action 'D' with current Q value 0.0\n",
      "Epsilon = 0.8991\n",
      "Reward for taking action 'D' from state 'E': -5.0\n",
      "After taking action 'D' from state 'E', new state is 'D'\n",
      "Q value update: Q(E,D) = Q(E,D) + alpha*(r(E,D) + gamma*max(Q[D,:]) - Q[E,D])\n",
      "\n",
      "Iteration Number 2\n",
      "Available actions from state 'D' are: ['C', 'E', 'I']\n",
      "Q values for those actions from current state: [0.0, 0.0, 0.0]\n",
      "Detected multiple actions with identical Q values. Agent will randomly select one of these.\n",
      "Our best available actions from here are: ['C', 'E', 'I'] with current q values: [0.0, 0.0, 0.0]\n",
      "Selecting random action 'C' with current Q value 0.0\n",
      "Epsilon = 0.8982009\n",
      "Reward for taking action 'C' from state 'D': -5.0\n",
      "After taking action 'C' from state 'D', new state is 'C'\n",
      "Q value update: Q(D,C) = Q(D,C) + alpha*(r(D,C) + gamma*max(Q[C,:]) - Q[D,C])\n",
      "\n",
      "Iteration Number 3\n",
      "Available actions from state 'C' are: ['B', 'D', 'H']\n",
      "Q values for those actions from current state: [0.0, 0.0, 0.0]\n",
      "Detected multiple actions with identical Q values. Agent will randomly select one of these.\n",
      "Our best available actions from here are: ['B', 'D', 'H'] with current q values: [0.0, 0.0, 0.0]\n",
      "Selecting random action 'B' with current Q value 0.0\n",
      "Epsilon = 0.8973026990999999\n",
      "Reward for taking action 'B' from state 'C': -5.0\n",
      "After taking action 'B' from state 'C', new state is 'B'\n",
      "Q value update: Q(C,B) = Q(C,B) + alpha*(r(C,B) + gamma*max(Q[B,:]) - Q[C,B])\n",
      "\n",
      "Iteration Number 4\n",
      "Available actions from state 'B' are: ['A', 'C', 'G']\n",
      "Q values for those actions from current state: [0.0, 0.0, 0.0]\n",
      "Detected multiple actions with identical Q values. Agent will randomly select one of these.\n",
      "Our best available actions from here are: ['A', 'C', 'G'] with current q values: [0.0, 0.0, 0.0]\n",
      "Selecting random action 'C' with current Q value 0.0\n",
      "Epsilon = 0.8964053964008999\n",
      "Reward for taking action 'C' from state 'B': -5.0\n",
      "After taking action 'C' from state 'B', new state is 'C'\n",
      "Q value update: Q(B,C) = Q(B,C) + alpha*(r(B,C) + gamma*max(Q[C,:]) - Q[B,C])\n",
      "\n",
      "Iteration Number 5\n",
      "Available actions from state 'C' are: ['B', 'D', 'H']\n",
      "Q values for those actions from current state: [-5.0, 0.0, 0.0]\n",
      "Detected multiple actions with identical Q values. Agent will randomly select one of these.\n",
      "Our best available actions from here are: ['D', 'H'] with current q values: [0.0, 0.0]\n",
      "Selecting random action 'H' with current Q value 0.0\n",
      "Epsilon = 0.895508991004499\n",
      "Reward for taking action 'H' from state 'C': -5.0\n",
      "After taking action 'H' from state 'C', new state is 'H'\n",
      "Q value update: Q(C,H) = Q(C,H) + alpha*(r(C,H) + gamma*max(Q[H,:]) - Q[C,H])\n",
      "\n",
      "Iteration Number 6\n",
      "Available actions from state 'H' are: ['C', 'G', 'I', 'M']\n",
      "Q values for those actions from current state: [0.0, 0.0, 0.0, 0.0]\n",
      "Detected multiple actions with identical Q values. Agent will randomly select one of these.\n",
      "Our best available actions from here are: ['C', 'G', 'I', 'M'] with current q values: [0.0, 0.0, 0.0, 0.0]\n",
      "Selecting random action 'M' with current Q value 0.0\n",
      "Epsilon = 0.8946134820134944\n",
      "Reward for taking action 'M' from state 'H': 300.0\n",
      "After taking action 'M' from state 'H', new state is 'M'\n",
      "Q value update: Q(H,M) = Q(H,M) + alpha*(r(H,M) + gamma*max(Q[M,:]) - Q[H,M])\n",
      "\n",
      "Iteration Number 7\n",
      "Available actions from state 'M' are: ['H', 'L', 'N', 'R']\n",
      "Q values for those actions from current state: [0.0, 0.0, 0.0, 0.0]\n",
      "Detected multiple actions with identical Q values. Agent will randomly select one of these.\n",
      "Our best available actions from here are: ['H', 'L', 'N', 'R'] with current q values: [0.0, 0.0, 0.0, 0.0]\n",
      "Selecting random action 'H' with current Q value 0.0\n",
      "Epsilon = 0.893718868531481\n",
      "Reward for taking action 'H' from state 'M': -5.0\n",
      "After taking action 'H' from state 'M', new state is 'H'\n",
      "Q value update: Q(M,H) = Q(M,H) + alpha*(r(M,H) + gamma*max(Q[H,:]) - Q[M,H])\n",
      "\n",
      "Iteration Number 8\n",
      "Available actions from state 'H' are: ['C', 'G', 'I', 'M']\n",
      "Q values for those actions from current state: [0.0, 0.0, 0.0, 300.0]\n",
      "Selecting random action 'C' with current Q value 0.0\n",
      "Epsilon = 0.8928251496629495\n",
      "Reward for taking action 'C' from state 'H': -5.0\n",
      "After taking action 'C' from state 'H', new state is 'C'\n",
      "Q value update: Q(H,C) = Q(H,C) + alpha*(r(H,C) + gamma*max(Q[C,:]) - Q[H,C])\n",
      "\n",
      "Iteration Number 9\n",
      "Available actions from state 'C' are: ['B', 'D', 'H']\n",
      "Q values for those actions from current state: [-5.0, 0.0, -5.0]\n",
      "Selecting random action 'B' with current Q value -5.0\n",
      "Epsilon = 0.8919323245132865\n",
      "Reward for taking action 'B' from state 'C': -5.0\n",
      "After taking action 'B' from state 'C', new state is 'B'\n",
      "Q value update: Q(C,B) = Q(C,B) + alpha*(r(C,B) + gamma*max(Q[B,:]) - Q[C,B])\n",
      "\n",
      "Iteration Number 10\n",
      "Available actions from state 'B' are: ['A', 'C', 'G']\n",
      "Q values for those actions from current state: [0.0, -5.0, 0.0]\n",
      "Detected multiple actions with identical Q values. Agent will randomly select one of these.\n",
      "Our best available actions from here are: ['A', 'G'] with current q values: [0.0, 0.0]\n",
      "Selecting random action 'A' with current Q value 0.0\n",
      "Epsilon = 0.8910403921887733\n",
      "Reward for taking action 'A' from state 'B': -5.0\n",
      "After taking action 'A' from state 'B', new state is 'A'\n",
      "Q value update: Q(B,A) = Q(B,A) + alpha*(r(B,A) + gamma*max(Q[A,:]) - Q[B,A])\n",
      "\n",
      "Iteration Number 11\n",
      "Available actions from state 'A' are: ['B', 'F']\n",
      "Q values for those actions from current state: [0.0, 0.0]\n",
      "Detected multiple actions with identical Q values. Agent will randomly select one of these.\n",
      "Our best available actions from here are: ['B', 'F'] with current q values: [0.0, 0.0]\n",
      "Selecting random action 'F' with current Q value 0.0\n",
      "Epsilon = 0.8901493517965845\n",
      "Reward for taking action 'F' from state 'A': -5.0\n",
      "After taking action 'F' from state 'A', new state is 'F'\n",
      "Q value update: Q(A,F) = Q(A,F) + alpha*(r(A,F) + gamma*max(Q[F,:]) - Q[A,F])\n",
      "\n",
      "Iteration Number 12\n",
      "Available actions from state 'F' are: ['A', 'G', 'K']\n",
      "Q values for those actions from current state: [0.0, 0.0, 0.0]\n",
      "Detected multiple actions with identical Q values. Agent will randomly select one of these.\n",
      "Our best available actions from here are: ['A', 'G', 'K'] with current q values: [0.0, 0.0, 0.0]\n",
      "Selecting random action 'G' with current Q value 0.0\n",
      "Epsilon = 0.889259202444788\n",
      "Reward for taking action 'G' from state 'F': -5.0\n",
      "After taking action 'G' from state 'F', new state is 'G'\n",
      "Q value update: Q(F,G) = Q(F,G) + alpha*(r(F,G) + gamma*max(Q[G,:]) - Q[F,G])\n",
      "\n",
      "Iteration Number 13\n",
      "Available actions from state 'G' are: ['B', 'F', 'H', 'L']\n",
      "Q values for those actions from current state: [0.0, 0.0, 0.0, 0.0]\n",
      "Detected multiple actions with identical Q values. Agent will randomly select one of these.\n",
      "Our best available actions from here are: ['B', 'F', 'H', 'L'] with current q values: [0.0, 0.0, 0.0, 0.0]\n",
      "Selecting greedy action 'L' with current Q value 0.0\n",
      "Epsilon = 0.8891702765245435\n",
      "Reward for taking action 'L' from state 'G': -5.0\n",
      "After taking action 'L' from state 'G', new state is 'L'\n",
      "Q value update: Q(G,L) = Q(G,L) + alpha*(r(G,L) + gamma*max(Q[L,:]) - Q[G,L])\n",
      "\n",
      "Iteration Number 14\n",
      "Available actions from state 'L' are: ['G', 'K', 'M', 'Q']\n",
      "Q values for those actions from current state: [0.0, 0.0, 0.0, 0.0]\n",
      "Detected multiple actions with identical Q values. Agent will randomly select one of these.\n",
      "Our best available actions from here are: ['G', 'K', 'M', 'Q'] with current q values: [0.0, 0.0, 0.0, 0.0]\n",
      "Selecting greedy action 'Q' with current Q value 0.0\n",
      "Epsilon = 0.889081359496891\n",
      "Reward for taking action 'Q' from state 'L': -5.0\n",
      "After taking action 'Q' from state 'L', new state is 'Q'\n",
      "Q value update: Q(L,Q) = Q(L,Q) + alpha*(r(L,Q) + gamma*max(Q[Q,:]) - Q[L,Q])\n",
      "\n",
      "Iteration Number 15\n",
      "Available actions from state 'Q' are: ['L', 'P', 'R', 'V']\n",
      "Q values for those actions from current state: [0.0, 0.0, 0.0, 0.0]\n",
      "Detected multiple actions with identical Q values. Agent will randomly select one of these.\n",
      "Our best available actions from here are: ['L', 'P', 'R', 'V'] with current q values: [0.0, 0.0, 0.0, 0.0]\n",
      "Selecting greedy action 'P' with current Q value 0.0\n",
      "Epsilon = 0.8889924513609414\n",
      "Reward for taking action 'P' from state 'Q': -5.0\n",
      "After taking action 'P' from state 'Q', new state is 'P'\n",
      "Q value update: Q(Q,P) = Q(Q,P) + alpha*(r(Q,P) + gamma*max(Q[P,:]) - Q[Q,P])\n",
      "\n",
      "Iteration Number 16\n",
      "Available actions from state 'P' are: ['K', 'Q', 'U']\n",
      "Q values for those actions from current state: [0.0, 0.0, 0.0]\n",
      "Detected multiple actions with identical Q values. Agent will randomly select one of these.\n",
      "Our best available actions from here are: ['K', 'Q', 'U'] with current q values: [0.0, 0.0, 0.0]\n",
      "Selecting random action 'Q' with current Q value 0.0\n",
      "Epsilon = 0.8881034589095804\n",
      "Reward for taking action 'Q' from state 'P': -5.0\n",
      "After taking action 'Q' from state 'P', new state is 'Q'\n",
      "Q value update: Q(P,Q) = Q(P,Q) + alpha*(r(P,Q) + gamma*max(Q[Q,:]) - Q[P,Q])\n",
      "\n",
      "Iteration Number 17\n",
      "Available actions from state 'Q' are: ['L', 'P', 'R', 'V']\n",
      "Q values for those actions from current state: [0.0, -5.0, 0.0, 0.0]\n",
      "Detected multiple actions with identical Q values. Agent will randomly select one of these.\n",
      "Our best available actions from here are: ['L', 'R', 'V'] with current q values: [0.0, 0.0, 0.0]\n",
      "Selecting random action 'P' with current Q value -5.0\n",
      "Epsilon = 0.8872153554506709\n",
      "Reward for taking action 'P' from state 'Q': -5.0\n",
      "After taking action 'P' from state 'Q', new state is 'P'\n",
      "Q value update: Q(Q,P) = Q(Q,P) + alpha*(r(Q,P) + gamma*max(Q[P,:]) - Q[Q,P])\n",
      "\n",
      "Iteration Number 18\n",
      "Available actions from state 'P' are: ['K', 'Q', 'U']\n",
      "Q values for those actions from current state: [0.0, -5.0, 0.0]\n",
      "Detected multiple actions with identical Q values. Agent will randomly select one of these.\n",
      "Our best available actions from here are: ['K', 'U'] with current q values: [0.0, 0.0]\n",
      "Selecting random action 'U' with current Q value 0.0\n",
      "Epsilon = 0.8863281400952202\n",
      "Reward for taking action 'U' from state 'P': 200.0\n",
      "After taking action 'U' from state 'P', new state is 'U'\n",
      "Q value update: Q(P,U) = Q(P,U) + alpha*(r(P,U) + gamma*max(Q[U,:]) - Q[P,U])\n",
      "\n",
      "Goal state 'U' reached. Ending episode.\n",
      "Final Reward = 420.0\n"
     ]
    }
   ],
   "source": [
    "# defining learning hyperparameters and goal state\n",
    "alpha = 1 # learning rate\n",
    "gamma = 0.8 # discount rate\n",
    "epsilon = 0.9 # rate of exploration vs exploitation\n",
    "goal_state = \"M\"\n",
    "final_goal_state = \"U\"\n",
    "\n",
    "# setting up reward matrix filled with NA's\n",
    "number_of_states = len(S)\n",
    "R =  np.empty((number_of_states, number_of_states))\n",
    "R[:] = np.NaN\n",
    "\n",
    "# getting all possible actions\n",
    "possible_actions = []\n",
    "for i in range(R.shape[0]):\n",
    "    # to the right of current state\n",
    "    if i % 5 != 4:\n",
    "        possible_actions.append((i, i+1))\n",
    "    # to the left of current state\n",
    "    if i % 5 != 0:\n",
    "        possible_actions.append((i, i-1))\n",
    "    # to the bottom of current state\n",
    "    if i < 20:\n",
    "        possible_actions.append((i, i + grid_dim))\n",
    "    # to the top of current state\n",
    "    if i > 4:\n",
    "        possible_actions.append((i, i - grid_dim))\n",
    "\n",
    "# updating reward matrix based on possible actions and \n",
    "for i, j in possible_actions:\n",
    "    if j == 12:\n",
    "        R[i, j] = 300\n",
    "    else:\n",
    "        R[i, j] = -5\n",
    "\n",
    "# re-initializing Q\n",
    "Q = np.zeros(R.shape)\n",
    "\n",
    "# intialise state to E (index 4)\n",
    "s = 4\n",
    "print(\"Starting state is '{}'\".format(S[s]))\n",
    "\n",
    "cum_reward = 0\n",
    "\n",
    "for i in range(500):\n",
    "    print(\"Iteration Number {0}\".format(i + 1))\n",
    "    \n",
    "    # Action selection - mapping available actions from current state\n",
    "    available_actions = np.where(~np.isnan(R[s]))[0]\n",
    "    print(\"Available actions from state '{}' are: {}\".format(S[s], [A[x] for x in available_actions]))\n",
    "\n",
    "    # mapping q values from current state\n",
    "    q_values = [Q[s,a] for a in available_actions]\n",
    "    print('Q values for those actions from current state: {}'.format(q_values))\n",
    "\n",
    "    # mapping out best actions and corresponding q values from list of all q values at that current state\n",
    "    best_actions = available_actions[np.where(q_values == np.max(q_values))[0]]\n",
    "    best_actions_q_values = [Q[s,x] for x in best_actions]\n",
    "\n",
    "    # will make a random choice if have multiple actions with the same estimated values\n",
    "    if len(best_actions) > 1:\n",
    "        print('Detected multiple actions with identical Q values. Agent will randomly select one of these.')\n",
    "        print('Our best available actions from here are: {} with current q values: {}'.format(\n",
    "            [A[x] for x in best_actions], best_actions_q_values))\n",
    "    \n",
    "    # Epsilon-greedy\n",
    "    # will choose exploration if random number < epsilon - choose a random action from current set of available actions \n",
    "    if np.random.uniform() < epsilon:\n",
    "        a = np.random.choice(available_actions)\n",
    "        print(\"Selecting random action '{}' with current Q value {}\".format(A[a], Q[s,a]))\n",
    "        # scaling epsilon down after every iteration so that exploration is favoured for earlier iterations and scaling it down more if previously explored\n",
    "        epsilon *= 0.999\n",
    "    # else, will choose exploitation - choose a random action from the list of best actions (i.e. highest estimated values) \n",
    "    else:\n",
    "        a = np.random.choice(best_actions)\n",
    "        print(\"Selecting greedy action '{}' with current Q value {}\".format(A[a], Q[s,a]))\n",
    "        # scaling epsilon down after every iteration so that exploitation is favoured for later iterations and scaling it down less if previously exploited\n",
    "        epsilon *= 0.9999\n",
    "    \n",
    "    print(\"Epsilon = {0}\".format(epsilon))\n",
    "\n",
    "    # Environment updating\n",
    "    r = R[s,a]\n",
    "    print(\"Reward for taking action '{}' from state '{}': {}\".format(A[a], S[s], r))\n",
    "\n",
    "    s_old = s\n",
    "    s = a # here, the transition function is deterministic. Next state corresponds simply to the action taken.\n",
    "    print(\"After taking action '{}' from state '{}', new state is '{}'\".format(A[a], S[s_old], S[s]))\n",
    "\n",
    "    # Q value updating\n",
    "    \n",
    "    q_updated = Q[s_old,a] + alpha * (R[s_old,a] + gamma * np.max(Q[s,:]) - Q[s_old,a])\n",
    "    Q[s_old,a] = q_updated\n",
    "\n",
    "    print(\"Q value update: \" \\\n",
    "          \"Q({},{}) = Q({},{}) + alpha*(r({},{}) + gamma*max(Q[{},:]) - Q[{},{}])\\n\".format(\n",
    "        S[s_old], A[a], S[s_old], A[a], S[s_old], A[a], S[s],S[s_old], A[a]))\n",
    "\n",
    "#     print(\"Q matrix update: \" \\\n",
    "#           \"Q({},{}) = {} + {}*({} + {}*{} - {}) = {}\".format(\n",
    "#         S[s_old], A[a], Q[s_old,a].round(0), alpha, r, gamma, np.max(Q[s,:]).round(0), \n",
    "#         Q[s_old,a].round(0), q_updated))\n",
    "    \n",
    "    cum_reward += r\n",
    "\n",
    "#     print(\"Current reward = {}\".format(cum_reward))\n",
    "\n",
    "#     print('Q matrix updated: \\n\\n {}'.format(Q.round(0)))\n",
    "    \n",
    "    # if arrive at M then change reward to -5\n",
    "    if A[a] == \"M\" and r == 300:\n",
    "        R[7,12] = -5\n",
    "        R[11,12] = -5\n",
    "        R[13,12] = -5\n",
    "        R[17,12] = -5\n",
    "\n",
    "        for i,j in possible_actions:\n",
    "            if j==20:\n",
    "                R[i,j] = 200\n",
    "        goal_state=\"U\"\n",
    "    \n",
    "    if S[s] == final_goal_state:\n",
    "        print(\"Goal state '{}' reached. Ending episode.\".format(final_goal_state))\n",
    "        print(\"Final Reward = {}\".format(cum_reward))\n",
    "        break\n"
   ]
  },
  {
   "cell_type": "markdown",
   "id": "1e2b1571-1e03-4d12-a6da-134faec15647",
   "metadata": {},
   "source": [
    "# Learning - Until Convergence"
   ]
  },
  {
   "cell_type": "code",
   "execution_count": 109,
   "id": "45709b69-b15c-428e-ad90-262fd89a6365",
   "metadata": {
    "tags": []
   },
   "outputs": [
    {
     "name": "stdout",
     "output_type": "stream",
     "text": [
      "Episode 1 finished.\n",
      "Episode 101 finished.\n",
      "Episode 201 finished.\n",
      "Episode 301 finished.\n",
      "Episode 401 finished.\n",
      "Episode 501 finished.\n",
      "Episode 601 finished.\n",
      "Episode 701 finished.\n",
      "Episode 801 finished.\n",
      "Episode 901 finished.\n"
     ]
    }
   ],
   "source": [
    "# setting up lists to store performance metrics\n",
    "avg_cum_reward_list = []\n",
    "avg_num_episodes_list = []\n",
    "cum_reward = 0\n",
    "num_iter = 0\n",
    "\n",
    "# defining learning hyperparameters and goal state\n",
    "alpha = 1 # learning rate\n",
    "gamma = 0.8 # discount rate\n",
    "epsilon = 0.9 # rate of exploration vs exploitation\n",
    "final_goal_state = \"U\"\n",
    "\n",
    "num_episodes = 1000\n",
    "\n",
    "# re-initializing Q\n",
    "Q = np.zeros(R.shape)\n",
    "\n",
    "# Run for episodes\n",
    "# run it for 1000 episodes and in each episode, have 500 steps to reach goal state - if not, move on to next episode\n",
    "for episode in range(num_episodes):\n",
    "    \n",
    "    # initialising state to E (index 4)\n",
    "    s = 4\n",
    "#     print(\"Starting state is '{}'\".format(S[s]))\n",
    "    \n",
    "    goal_state=\"M\"\n",
    "    \n",
    "    # re-initialising reward matrix\n",
    "    # updating reward matrix based on possible actions and \n",
    "    for i, j in possible_actions:\n",
    "        if j == 12:\n",
    "            R[i, j] = 300\n",
    "        else:\n",
    "            R[i, j] = -5\n",
    "    \n",
    "    \n",
    "    # have 500 steps to reach goal state\n",
    "    for timestep in range(500):\n",
    "        # Action selection\n",
    "        available_actions = np.where(~np.isnan(R[s]))[0]\n",
    "        q_values = [Q[s,a] for a in available_actions]\n",
    "        best_actions = available_actions[np.where(q_values == np.max(q_values))[0]]\n",
    "        best_actions_q_values = [Q[s,x] for x in best_actions]\n",
    "        \n",
    "        # Epsilon-greedy\n",
    "        # will choose exploration if random number < epsilon - choose a random action from current set of available actions \n",
    "        if np.random.uniform() < epsilon:\n",
    "            a = np.random.choice(available_actions)\n",
    "            # scaling epsilon down after every iteration so that exploration is favoured for earlier iterations and scaling it down more if previously explored\n",
    "            epsilon *= 0.999\n",
    "        # else, will choose exploitation - choose a random action from the list of best actions (i.e. highest estimated values) \n",
    "        else:\n",
    "            a = np.random.choice(best_actions)\n",
    "            # scaling epsilon down after every iteration so that exploitation is favoured for later iterations and scaling it down less if previously exploited\n",
    "            epsilon *= 0.9999\n",
    "\n",
    "        # Environment updating\n",
    "        r = R[s,a]\n",
    "        s_old = s\n",
    "        s = a \n",
    "        \n",
    "        # Q value updating\n",
    "        # np.max(Q[s,:]) looks at the q values at the new state as compared to q_values which looked at q values at our old state\n",
    "        Q[s_old,a] = Q[s_old,a] + alpha * (R[s_old,a] + gamma * np.max(Q[s,:]) - Q[s_old,a])\n",
    "        \n",
    "        # if arrive at M then change reward to -5\n",
    "        if A[a] == \"M\" and r == 300:\n",
    "            R[7,12] = -5\n",
    "            R[11,12] = -5\n",
    "            R[13,12] = -5\n",
    "            R[17,12] = -5\n",
    "\n",
    "            for i,j in possible_actions:\n",
    "                if j==20:\n",
    "                    R[i,j] = 200\n",
    "            goal_state=\"U\"\n",
    "\n",
    "        # tallying cumulative reward\n",
    "        cum_reward += r\n",
    "        \n",
    "        if S[s] == final_goal_state:\n",
    "            break\n",
    "    \n",
    "    num_iter += timestep + 1\n",
    "    avg_cum_reward_list.append(cum_reward/(episode + 1))\n",
    "    avg_num_episodes_list.append(num_iter/(episode + 1))\n",
    "    if episode % 100 == 0: \n",
    "        print('Episode {} finished.'.format(episode + 1))\n",
    "#     print('Episode {} finished. Q matrix values:\\n{}'.format(episode + 1,Q.round(1)))"
   ]
  },
  {
   "cell_type": "markdown",
   "id": "17c2bb9d-78a0-4116-ba96-164e47edd7da",
   "metadata": {},
   "source": [
    "# Plotting Average Cumulative Reward and Average Number of Steps Per Episode"
   ]
  },
  {
   "cell_type": "code",
   "execution_count": 110,
   "id": "dcbf6fb1-4a09-4781-b196-d7280251e43e",
   "metadata": {},
   "outputs": [
    {
     "data": {
      "image/png": "[encoded data removed]",
      "text/plain": [
       "<Figure size 2160x360 with 2 Axes>"
      ]
     },
     "metadata": {
      "needs_background": "light"
     },
     "output_type": "display_data"
    }
   ],
   "source": [
    "fig, (ax1, ax2) = plt.subplots(1, 2, figsize=(30, 5))\n",
    "ax1.scatter(range(num_episodes), avg_cum_reward_list)\n",
    "ax2.scatter(range(num_episodes), avg_num_episodes_list)\n",
    "ax1.set(xlabel=\"Episodes\", ylabel=\"Average Cumulative Reward\", title=\"Average Cumulative Reward Accumulated over Episodes\")\n",
    "ax2.set(xlabel=\"Episodes\", ylabel=\"Average Number of Timesteps\", title = \"Average Number of Timesteps from Start to Goal State over Episodes\")\n",
    "plt.show()"
   ]
  },
  {
   "cell_type": "markdown",
   "id": "e586d935-d763-417c-ae89-cf63e020a794",
   "metadata": {},
   "source": [
    "# Hyperparameter Tuning - Varying Alpha"
   ]
  },
  {
   "cell_type": "code",
   "execution_count": 95,
   "id": "0c698e5b-4efe-4901-adcd-eb31bce47e65",
   "metadata": {},
   "outputs": [
    {
     "name": "stdout",
     "output_type": "stream",
     "text": [
      "Done\n"
     ]
    }
   ],
   "source": [
    "# defining learning hyperparameters and goal state\n",
    "alpha_list = [0, 0.5, 1] # set of learning rates\n",
    "gamma = 0.8 # discount rate\n",
    "epsilon = 0.9 # rate of exploration vs exploitation\n",
    "alpha_avg_cum_reward_lists = []\n",
    "alpha_avg_num_episodes_lists = []\n",
    "rate_of_goal_achieved_list = []\n",
    "final_goal_state = \"U\"\n",
    "\n",
    "# re-initializing Q\n",
    "Q = np.zeros(R.shape)\n",
    "\n",
    "\n",
    "# iterating over each alpha and gamma\n",
    "for alpha in alpha_list:\n",
    "        \n",
    "    # setting up lists to store performance metrics\n",
    "    avg_cum_reward_list = []\n",
    "    avg_num_episodes_list = []\n",
    "    cum_reward = 0\n",
    "    num_iter = 0\n",
    "    goal_achieved = 0\n",
    "\n",
    "    # Run for episodes\n",
    "    # run it for 1000 episodes and in each episode, have 500 steps to reach goal state - if not, move on to next episode\n",
    "    for episode in range(num_episodes):\n",
    "\n",
    "        # initialising starting state to E (index 4)\n",
    "        s = 4\n",
    "\n",
    "        goal_state = \"M\"\n",
    "        \n",
    "        # re-initialising reward matrix\n",
    "        # updating reward matrix based on possible actions and \n",
    "        for i, j in possible_actions:\n",
    "            if j == 12:\n",
    "                R[i, j] = 300\n",
    "            else:\n",
    "                R[i, j] = -5\n",
    "        \n",
    "        # have 500 steps to reach goal state\n",
    "        for timestep in range(500):\n",
    "            # Action selection\n",
    "            available_actions = np.where(~np.isnan(R[s]))[0]\n",
    "            q_values = [Q[s,a] for a in available_actions]\n",
    "            best_actions = available_actions[np.where(q_values == np.max(q_values))[0]]\n",
    "            best_actions_q_values = [Q[s,x] for x in best_actions]\n",
    "\n",
    "            # Epsilon-greedy\n",
    "            # will choose exploration if random number < epsilon - choose a random action from current set of available actions \n",
    "            if  np.random.uniform() < epsilon:\n",
    "                a = np.random.choice(available_actions)\n",
    "                # scaling epsilon down after every iteration so that exploration is favoured for earlier iterations and scaling it down more if previously explored\n",
    "                epsilon *= 0.999\n",
    "            # else, will choose exploitation - choose a random action from the list of best actions (i.e. highest estimated values) \n",
    "            else:\n",
    "                a = np.random.choice(best_actions)\n",
    "                # scaling epsilon down after every iteration so that exploitation is favoured for later iterations and scaling it down less if previously exploited\n",
    "                epsilon *= 0.9999\n",
    "\n",
    "            # Environment updating\n",
    "            r = R[s,a]\n",
    "            s_old = s\n",
    "            s = a \n",
    "\n",
    "            # Q value updating\n",
    "            # np.max(Q[s,:]) looks at the q values at the new state as compared to q_values which looked at q values at our old state\n",
    "            Q[s_old,a] = Q[s_old,a] + alpha * (R[s_old,a] + gamma * np.max(Q[s,:]) - Q[s_old,a])\n",
    "\n",
    "            # if arrive at M then change reward to -5\n",
    "            if A[a] == \"M\" and r == 300:\n",
    "                R[7,12] = -5\n",
    "                R[11,12] = -5\n",
    "                R[13,12] = -5\n",
    "                R[17,12] = -5\n",
    "                \n",
    "                for i,j in possible_actions:\n",
    "                    if j==20:\n",
    "                        R[i,j] = 200\n",
    "                goal_state=\"U\"\n",
    "            \n",
    "\n",
    "            # tallying cumulative reward\n",
    "            cum_reward += r\n",
    "            \n",
    "            if S[s] == final_goal_state:\n",
    "                goal_achieved += 1\n",
    "                break\n",
    "\n",
    "        num_iter += timestep + 1\n",
    "        avg_cum_reward_list.append(cum_reward/(episode + 1))\n",
    "        avg_num_episodes_list.append(num_iter/(episode + 1))\n",
    "\n",
    "    rate_of_goal_achieved_list.append(goal_achieved/num_episodes)\n",
    "    alpha_avg_cum_reward_lists.append(avg_cum_reward_list)\n",
    "    alpha_avg_num_episodes_lists.append(avg_num_episodes_list)\n",
    "print(\"Done\")"
   ]
  },
  {
   "cell_type": "code",
   "execution_count": 96,
   "id": "ff65cd5a-ecb7-4059-9746-03ceb31f9ae2",
   "metadata": {},
   "outputs": [
    {
     "data": {
      "image/png": "[encoded data removed]",
      "text/plain": [
       "<Figure size 2160x360 with 2 Axes>"
      ]
     },
     "metadata": {
      "needs_background": "light"
     },
     "output_type": "display_data"
    }
   ],
   "source": [
    "fig, (ax1, ax2) = plt.subplots(1, 2, figsize=(30, 5))\n",
    "for reward_list in alpha_avg_cum_reward_lists:\n",
    "    ax1.plot(range(num_episodes), reward_list)\n",
    "\n",
    "for episode_list in alpha_avg_num_episodes_lists:\n",
    "    ax2.plot(range(num_episodes), episode_list)\n",
    "    \n",
    "# ax2.scatter(range(num_episodes), avg_num_episodes_list)\n",
    "ax1.set(xlabel=\"Episodes\", ylabel=\"Average Cumulative Reward\", title=\"Average Cumulative Reward Accumulated over Episodes by Alpha\")\n",
    "ax2.set(xlabel=\"Episodes\", ylabel=\"Average Number of Timesteps\", title = \"Average Number of Timesteps from Start to Goal State over Episodes by Alpha\")\n",
    "ax1.legend(labels=alpha_list)\n",
    "ax2.legend(labels=alpha_list)\n",
    "plt.show()"
   ]
  },
  {
   "cell_type": "markdown",
   "id": "83d94e62-1c43-4cf3-9b08-e9f2dad24f69",
   "metadata": {},
   "source": [
    "# Hyperparameter Tuning - Varying Gamma"
   ]
  },
  {
   "cell_type": "code",
   "execution_count": 97,
   "id": "476c3fc6-1fdd-4cea-b83b-97608aaeb38e",
   "metadata": {},
   "outputs": [
    {
     "name": "stdout",
     "output_type": "stream",
     "text": [
      "Done\n"
     ]
    }
   ],
   "source": [
    "# defining learning hyperparameters and goal state\n",
    "alpha = 1 # learning rate\n",
    "gamma_list = [0, 0.5, 1] # set of discount rates\n",
    "epsilon = 0.9 # rate of exploration vs exploitation\n",
    "gamma_avg_cum_reward_lists = []\n",
    "gamma_avg_num_episodes_lists = []\n",
    "rate_of_goal_achieved_list = []\n",
    "final_goal_state = \"U\"\n",
    "\n",
    "# re-initializing Q\n",
    "Q = np.zeros(R.shape)\n",
    "\n",
    "\n",
    "# iterating over each alpha and gamma\n",
    "for alpha in alpha_list:\n",
    "        \n",
    "    # setting up lists to store performance metrics\n",
    "    avg_cum_reward_list = []\n",
    "    avg_num_episodes_list = []\n",
    "    cum_reward = 0\n",
    "    num_iter = 0\n",
    "    goal_achieved = 0\n",
    "\n",
    "    # Run for episodes\n",
    "    # run it for 1000 episodes and in each episode, have 500 steps to reach goal state - if not, move on to next episode\n",
    "    for episode in range(num_episodes):\n",
    "\n",
    "        # initialising starting state to E (index 4)\n",
    "        s = 4\n",
    "\n",
    "        goal_state = \"M\"\n",
    "        \n",
    "        # re-initialising reward matrix\n",
    "        # updating reward matrix based on possible actions and \n",
    "        for i, j in possible_actions:\n",
    "            if j == 12:\n",
    "                R[i, j] = 300\n",
    "            else:\n",
    "                R[i, j] = -5\n",
    "        \n",
    "        # have 500 steps to reach goal state\n",
    "        for timestep in range(500):\n",
    "            # Action selection\n",
    "            available_actions = np.where(~np.isnan(R[s]))[0]\n",
    "            q_values = [Q[s,a] for a in available_actions]\n",
    "            best_actions = available_actions[np.where(q_values == np.max(q_values))[0]]\n",
    "            best_actions_q_values = [Q[s,x] for x in best_actions]\n",
    "\n",
    "            # Epsilon-greedy\n",
    "            # will choose exploration if random number < epsilon - choose a random action from current set of available actions \n",
    "            if  np.random.uniform() < epsilon:\n",
    "                a = np.random.choice(available_actions)\n",
    "                # scaling epsilon down after every iteration so that exploration is favoured for earlier iterations and scaling it down more if previously explored\n",
    "                epsilon *= 0.999\n",
    "            # else, will choose exploitation - choose a random action from the list of best actions (i.e. highest estimated values) \n",
    "            else:\n",
    "                a = np.random.choice(best_actions)\n",
    "                # scaling epsilon down after every iteration so that exploitation is favoured for later iterations and scaling it down less if previously exploited\n",
    "                epsilon *= 0.9999\n",
    "\n",
    "            # Environment updating\n",
    "            r = R[s,a]\n",
    "            s_old = s\n",
    "            s = a \n",
    "\n",
    "            # Q value updating\n",
    "            # np.max(Q[s,:]) looks at the q values at the new state as compared to q_values which looked at q values at our old state\n",
    "            Q[s_old,a] = Q[s_old,a] + alpha * (R[s_old,a] + gamma * np.max(Q[s,:]) - Q[s_old,a])\n",
    "\n",
    "            # if arrive at M then change reward to -5\n",
    "            if A[a] == \"M\" and r == 300:\n",
    "                R[7,12] = -5\n",
    "                R[11,12] = -5\n",
    "                R[13,12] = -5\n",
    "                R[17,12] = -5\n",
    "                \n",
    "                for i,j in possible_actions:\n",
    "                    if j==20:\n",
    "                        R[i,j] = 200\n",
    "                goal_state=\"U\"\n",
    "            \n",
    "\n",
    "            # tallying cumulative reward\n",
    "            cum_reward += r\n",
    "\n",
    "            if S[s] == final_goal_state:\n",
    "                goal_achieved += 1\n",
    "                break\n",
    "\n",
    "        num_iter += timestep + 1\n",
    "        avg_cum_reward_list.append(cum_reward/(episode + 1))\n",
    "        avg_num_episodes_list.append(num_iter/(episode + 1))\n",
    "\n",
    "    rate_of_goal_achieved_list.append(goal_achieved/num_episodes)\n",
    "    gamma_avg_cum_reward_lists.append(avg_cum_reward_list)\n",
    "    gamma_avg_num_episodes_lists.append(avg_num_episodes_list)\n",
    "print(\"Done\")"
   ]
  },
  {
   "cell_type": "code",
   "execution_count": 98,
   "id": "e2ad9094-89e2-4314-a237-ad1c7babb112",
   "metadata": {},
   "outputs": [
    {
     "data": {
      "image/png": "[encoded data removed]",
      "text/plain": [
       "<Figure size 2160x360 with 2 Axes>"
      ]
     },
     "metadata": {
      "needs_background": "light"
     },
     "output_type": "display_data"
    }
   ],
   "source": [
    "fig, (ax1, ax2) = plt.subplots(1, 2, figsize=(30, 5))\n",
    "\n",
    "for reward_list in gamma_avg_cum_reward_lists:\n",
    "    ax1.plot(range(num_episodes), reward_list)\n",
    "\n",
    "for episode_list in gamma_avg_num_episodes_lists:\n",
    "    ax2.plot(range(num_episodes), episode_list)\n",
    "    \n",
    "# ax2.scatter(range(num_episodes), avg_num_episodes_list)\n",
    "ax1.set(xlabel=\"Episodes\", ylabel=\"Average Cumulative Reward\", title=\"Average Cumulative Reward Accumulated over Episodes by Gamma\")\n",
    "ax2.set(xlabel=\"Episodes\", ylabel=\"Average Number of Timesteps\", title = \"Average Number of Timesteps from Start to Goal State over Episodes by Gamma\")\n",
    "ax1.legend(labels=gamma_list)\n",
    "ax2.legend(labels=gamma_list)\n",
    "plt.show()"
   ]
  },
  {
   "cell_type": "markdown",
   "id": "a6f95623-0c86-4340-972b-c4999c83c99a",
   "metadata": {},
   "source": [
    "# Hyperparameter Tuning - Varying Rate of Decay"
   ]
  },
  {
   "cell_type": "code",
   "execution_count": 99,
   "id": "aa5395a6-bb96-402b-807a-74e4658d861e",
   "metadata": {},
   "outputs": [
    {
     "name": "stdout",
     "output_type": "stream",
     "text": [
      "Done\n"
     ]
    }
   ],
   "source": [
    "# defining learning hyperparameters and goal state\n",
    "alpha = 1 # learning rate\n",
    "gamma = 0.8 # discount rate\n",
    "epsilon = 0.9 # rate of exploration vs exploitation\n",
    "scalar_list = [(0.099, 0.0999), (0.999, 0.9999)] # list of rates of decay\n",
    "scalar_avg_cum_reward_lists = []\n",
    "scalar_avg_num_episodes_lists = []\n",
    "rate_of_goal_achieved_list = []\n",
    "final_goal_state = \"U\"\n",
    "\n",
    "# re-initializing Q\n",
    "Q = np.zeros(R.shape)\n",
    "\n",
    "\n",
    "# iterating over each alpha and gamma\n",
    "for scalar_explore, scalar_exploit in scalar_list:\n",
    "        \n",
    "    # setting up lists to store performance metrics\n",
    "    avg_cum_reward_list = []\n",
    "    avg_num_episodes_list = []\n",
    "    cum_reward = 0\n",
    "    num_iter = 0\n",
    "    goal_achieved = 0\n",
    "\n",
    "    # Run for episodes\n",
    "    # run it for 1000 episodes and in each episode, have 500 steps to reach goal state - if not, move on to next episode\n",
    "    for episode in range(num_episodes):\n",
    "\n",
    "        # initialising starting state to E (index 4)\n",
    "        s = 4\n",
    "\n",
    "        goal_state = \"M\"\n",
    "        \n",
    "        # re-initialising reward matrix\n",
    "        # updating reward matrix based on possible actions and \n",
    "        for i, j in possible_actions:\n",
    "            if j == 12:\n",
    "                R[i, j] = 300\n",
    "            else:\n",
    "                R[i, j] = -5\n",
    "        \n",
    "        # have 500 steps to reach goal state\n",
    "        for timestep in range(500):\n",
    "            # Action selection\n",
    "            available_actions = np.where(~np.isnan(R[s]))[0]\n",
    "            q_values = [Q[s,a] for a in available_actions]\n",
    "            best_actions = available_actions[np.where(q_values == np.max(q_values))[0]]\n",
    "            best_actions_q_values = [Q[s,x] for x in best_actions]\n",
    "\n",
    "            # Epsilon-greedy\n",
    "            # will choose exploration if random number < epsilon - choose a random action from current set of available actions \n",
    "            if  np.random.uniform() < epsilon:\n",
    "                a = np.random.choice(available_actions)\n",
    "                # scaling epsilon down after every iteration so that exploration is favoured for earlier iterations and scaling it down more if previously explored\n",
    "                epsilon *= scalar_explore\n",
    "            # else, will choose exploitation - choose a random action from the list of best actions (i.e. highest estimated values) \n",
    "            else:\n",
    "                a = np.random.choice(best_actions)\n",
    "                # scaling epsilon down after every iteration so that exploitation is favoured for later iterations and scaling it down less if previously exploited\n",
    "                epsilon *= scalar_exploit\n",
    "\n",
    "            # Environment updating\n",
    "            r = R[s,a]\n",
    "            s_old = s\n",
    "            s = a \n",
    "\n",
    "            # Q value updating\n",
    "            # np.max(Q[s,:]) looks at the q values at the new state as compared to q_values which looked at q values at our old state\n",
    "            Q[s_old,a] = Q[s_old,a] + alpha * (R[s_old,a] + gamma * np.max(Q[s,:]) - Q[s_old,a])\n",
    "\n",
    "            # if arrive at M then change reward to -5\n",
    "            if A[a] == \"M\" and r == 300:\n",
    "                R[7,12] = -5\n",
    "                R[11,12] = -5\n",
    "                R[13,12] = -5\n",
    "                R[17,12] = -5\n",
    "                \n",
    "                for i,j in possible_actions:\n",
    "                    if j==20:\n",
    "                        R[i,j] = 200\n",
    "                goal_state=\"U\"\n",
    "            \n",
    "\n",
    "            # tallying cumulative reward\n",
    "            cum_reward += r\n",
    "\n",
    "            if S[s] == final_goal_state:\n",
    "                goal_achieved += 1\n",
    "                break\n",
    "\n",
    "        num_iter += timestep + 1\n",
    "        avg_cum_reward_list.append(cum_reward/(episode + 1))\n",
    "        avg_num_episodes_list.append(num_iter/(episode + 1))\n",
    "\n",
    "    rate_of_goal_achieved_list.append(goal_achieved/num_episodes)\n",
    "    scalar_avg_cum_reward_lists.append(avg_cum_reward_list)\n",
    "    scalar_avg_num_episodes_lists.append(avg_num_episodes_list)\n",
    "print(\"Done\")"
   ]
  },
  {
   "cell_type": "code",
   "execution_count": 100,
   "id": "baa32326-e0d7-452c-afd7-946f10758515",
   "metadata": {},
   "outputs": [
    {
     "data": {
      "image/png": "[encoded data removed]",
      "text/plain": [
       "<Figure size 2160x360 with 2 Axes>"
      ]
     },
     "metadata": {
      "needs_background": "light"
     },
     "output_type": "display_data"
    }
   ],
   "source": [
    "fig, (ax1, ax2) = plt.subplots(1, 2, figsize=(30, 5))\n",
    "\n",
    "for reward_list in scalar_avg_cum_reward_lists:\n",
    "    ax1.plot(range(num_episodes), reward_list)\n",
    "\n",
    "for episode_list in scalar_avg_num_episodes_lists:\n",
    "    ax2.plot(range(num_episodes), episode_list)\n",
    "    \n",
    "# ax2.scatter(range(num_episodes), avg_num_episodes_list)\n",
    "ax1.set(xlabel=\"Episodes\", ylabel=\"Average Cumulative Reward\", title=\"Average Cumulative Reward Accumulated over Episodes by Rates of ε -decay\")\n",
    "ax2.set(xlabel=\"Episodes\", ylabel=\"Average Number of Timesteps\", title = \"Average Number of Timesteps from Start to Goal State over Episodes by Rates of ε -decay\")\n",
    "ax1.legend(labels=scalar_list)\n",
    "ax2.legend(labels=scalar_list)\n",
    "plt.show()"
   ]
  },
  {
   "cell_type": "markdown",
   "id": "c565e9a7-65e1-4f74-9220-67afa8a15188",
   "metadata": {},
   "source": [
    "# Hyperparameter Tuning - Alpha, Gamma, and Rate of Decay"
   ]
  },
  {
   "cell_type": "code",
   "execution_count": 101,
   "id": "ff4ac6db-4a65-41a6-b43c-54ae14be617f",
   "metadata": {},
   "outputs": [
    {
     "data": {
      "text/html": [
       "<div>\n",
       "<style scoped>\n",
       "    .dataframe tbody tr th:only-of-type {\n",
       "        vertical-align: middle;\n",
       "    }\n",
       "\n",
       "    .dataframe tbody tr th {\n",
       "        vertical-align: top;\n",
       "    }\n",
       "\n",
       "    .dataframe thead th {\n",
       "        text-align: right;\n",
       "    }\n",
       "</style>\n",
       "<table border=\"1\" class=\"dataframe\">\n",
       "  <thead>\n",
       "    <tr style=\"text-align: right;\">\n",
       "      <th></th>\n",
       "      <th>Alpha</th>\n",
       "      <th>Gamma</th>\n",
       "      <th>Rates of Epsilon Decay (Explore, Exploit)</th>\n",
       "      <th>Average Cummulative Reward</th>\n",
       "      <th>Average Number of Episodes</th>\n",
       "      <th>Rate of Reaching Goal State</th>\n",
       "    </tr>\n",
       "  </thead>\n",
       "  <tbody>\n",
       "    <tr>\n",
       "      <th>0</th>\n",
       "      <td>0.0</td>\n",
       "      <td>0.0</td>\n",
       "      <td>(0.099, 0.0999)</td>\n",
       "      <td>17.445</td>\n",
       "      <td>79.600</td>\n",
       "      <td>0.999</td>\n",
       "    </tr>\n",
       "    <tr>\n",
       "      <th>1</th>\n",
       "      <td>0.0</td>\n",
       "      <td>0.0</td>\n",
       "      <td>(0.999, 0.9999)</td>\n",
       "      <td>13.055</td>\n",
       "      <td>83.946</td>\n",
       "      <td>0.999</td>\n",
       "    </tr>\n",
       "    <tr>\n",
       "      <th>2</th>\n",
       "      <td>0.0</td>\n",
       "      <td>0.5</td>\n",
       "      <td>(0.099, 0.0999)</td>\n",
       "      <td>4.640</td>\n",
       "      <td>84.262</td>\n",
       "      <td>0.998</td>\n",
       "    </tr>\n",
       "    <tr>\n",
       "      <th>3</th>\n",
       "      <td>0.0</td>\n",
       "      <td>0.5</td>\n",
       "      <td>(0.999, 0.9999)</td>\n",
       "      <td>5.580</td>\n",
       "      <td>86.604</td>\n",
       "      <td>1.000</td>\n",
       "    </tr>\n",
       "    <tr>\n",
       "      <th>4</th>\n",
       "      <td>0.0</td>\n",
       "      <td>1.0</td>\n",
       "      <td>(0.099, 0.0999)</td>\n",
       "      <td>-6.860</td>\n",
       "      <td>86.174</td>\n",
       "      <td>0.996</td>\n",
       "    </tr>\n",
       "    <tr>\n",
       "      <th>5</th>\n",
       "      <td>0.0</td>\n",
       "      <td>1.0</td>\n",
       "      <td>(0.999, 0.9999)</td>\n",
       "      <td>20.540</td>\n",
       "      <td>81.878</td>\n",
       "      <td>1.000</td>\n",
       "    </tr>\n",
       "    <tr>\n",
       "      <th>6</th>\n",
       "      <td>0.5</td>\n",
       "      <td>0.0</td>\n",
       "      <td>(0.099, 0.0999)</td>\n",
       "      <td>268.850</td>\n",
       "      <td>42.212</td>\n",
       "      <td>1.000</td>\n",
       "    </tr>\n",
       "    <tr>\n",
       "      <th>7</th>\n",
       "      <td>0.5</td>\n",
       "      <td>0.0</td>\n",
       "      <td>(0.999, 0.9999)</td>\n",
       "      <td>269.025</td>\n",
       "      <td>43.380</td>\n",
       "      <td>0.997</td>\n",
       "    </tr>\n",
       "    <tr>\n",
       "      <th>8</th>\n",
       "      <td>0.5</td>\n",
       "      <td>0.5</td>\n",
       "      <td>(0.099, 0.0999)</td>\n",
       "      <td>467.350</td>\n",
       "      <td>8.530</td>\n",
       "      <td>1.000</td>\n",
       "    </tr>\n",
       "    <tr>\n",
       "      <th>9</th>\n",
       "      <td>0.5</td>\n",
       "      <td>0.5</td>\n",
       "      <td>(0.999, 0.9999)</td>\n",
       "      <td>470.000</td>\n",
       "      <td>8.000</td>\n",
       "      <td>1.000</td>\n",
       "    </tr>\n",
       "    <tr>\n",
       "      <th>10</th>\n",
       "      <td>0.5</td>\n",
       "      <td>1.0</td>\n",
       "      <td>(0.099, 0.0999)</td>\n",
       "      <td>470.000</td>\n",
       "      <td>8.000</td>\n",
       "      <td>1.000</td>\n",
       "    </tr>\n",
       "    <tr>\n",
       "      <th>11</th>\n",
       "      <td>0.5</td>\n",
       "      <td>1.0</td>\n",
       "      <td>(0.999, 0.9999)</td>\n",
       "      <td>470.000</td>\n",
       "      <td>8.000</td>\n",
       "      <td>1.000</td>\n",
       "    </tr>\n",
       "    <tr>\n",
       "      <th>12</th>\n",
       "      <td>1.0</td>\n",
       "      <td>0.0</td>\n",
       "      <td>(0.099, 0.0999)</td>\n",
       "      <td>129.575</td>\n",
       "      <td>57.582</td>\n",
       "      <td>0.999</td>\n",
       "    </tr>\n",
       "    <tr>\n",
       "      <th>13</th>\n",
       "      <td>1.0</td>\n",
       "      <td>0.0</td>\n",
       "      <td>(0.999, 0.9999)</td>\n",
       "      <td>134.800</td>\n",
       "      <td>52.600</td>\n",
       "      <td>1.000</td>\n",
       "    </tr>\n",
       "    <tr>\n",
       "      <th>14</th>\n",
       "      <td>1.0</td>\n",
       "      <td>0.5</td>\n",
       "      <td>(0.099, 0.0999)</td>\n",
       "      <td>463.800</td>\n",
       "      <td>8.526</td>\n",
       "      <td>1.000</td>\n",
       "    </tr>\n",
       "    <tr>\n",
       "      <th>15</th>\n",
       "      <td>1.0</td>\n",
       "      <td>0.5</td>\n",
       "      <td>(0.999, 0.9999)</td>\n",
       "      <td>470.000</td>\n",
       "      <td>8.000</td>\n",
       "      <td>1.000</td>\n",
       "    </tr>\n",
       "    <tr>\n",
       "      <th>16</th>\n",
       "      <td>1.0</td>\n",
       "      <td>1.0</td>\n",
       "      <td>(0.099, 0.0999)</td>\n",
       "      <td>470.000</td>\n",
       "      <td>8.000</td>\n",
       "      <td>1.000</td>\n",
       "    </tr>\n",
       "    <tr>\n",
       "      <th>17</th>\n",
       "      <td>1.0</td>\n",
       "      <td>1.0</td>\n",
       "      <td>(0.999, 0.9999)</td>\n",
       "      <td>470.000</td>\n",
       "      <td>8.000</td>\n",
       "      <td>1.000</td>\n",
       "    </tr>\n",
       "  </tbody>\n",
       "</table>\n",
       "</div>"
      ],
      "text/plain": [
       "    Alpha  Gamma Rates of Epsilon Decay (Explore, Exploit)  \\\n",
       "0     0.0    0.0                           (0.099, 0.0999)   \n",
       "1     0.0    0.0                           (0.999, 0.9999)   \n",
       "2     0.0    0.5                           (0.099, 0.0999)   \n",
       "3     0.0    0.5                           (0.999, 0.9999)   \n",
       "4     0.0    1.0                           (0.099, 0.0999)   \n",
       "5     0.0    1.0                           (0.999, 0.9999)   \n",
       "6     0.5    0.0                           (0.099, 0.0999)   \n",
       "7     0.5    0.0                           (0.999, 0.9999)   \n",
       "8     0.5    0.5                           (0.099, 0.0999)   \n",
       "9     0.5    0.5                           (0.999, 0.9999)   \n",
       "10    0.5    1.0                           (0.099, 0.0999)   \n",
       "11    0.5    1.0                           (0.999, 0.9999)   \n",
       "12    1.0    0.0                           (0.099, 0.0999)   \n",
       "13    1.0    0.0                           (0.999, 0.9999)   \n",
       "14    1.0    0.5                           (0.099, 0.0999)   \n",
       "15    1.0    0.5                           (0.999, 0.9999)   \n",
       "16    1.0    1.0                           (0.099, 0.0999)   \n",
       "17    1.0    1.0                           (0.999, 0.9999)   \n",
       "\n",
       "    Average Cummulative Reward  Average Number of Episodes  \\\n",
       "0                       17.445                      79.600   \n",
       "1                       13.055                      83.946   \n",
       "2                        4.640                      84.262   \n",
       "3                        5.580                      86.604   \n",
       "4                       -6.860                      86.174   \n",
       "5                       20.540                      81.878   \n",
       "6                      268.850                      42.212   \n",
       "7                      269.025                      43.380   \n",
       "8                      467.350                       8.530   \n",
       "9                      470.000                       8.000   \n",
       "10                     470.000                       8.000   \n",
       "11                     470.000                       8.000   \n",
       "12                     129.575                      57.582   \n",
       "13                     134.800                      52.600   \n",
       "14                     463.800                       8.526   \n",
       "15                     470.000                       8.000   \n",
       "16                     470.000                       8.000   \n",
       "17                     470.000                       8.000   \n",
       "\n",
       "    Rate of Reaching Goal State  \n",
       "0                         0.999  \n",
       "1                         0.999  \n",
       "2                         0.998  \n",
       "3                         1.000  \n",
       "4                         0.996  \n",
       "5                         1.000  \n",
       "6                         1.000  \n",
       "7                         0.997  \n",
       "8                         1.000  \n",
       "9                         1.000  \n",
       "10                        1.000  \n",
       "11                        1.000  \n",
       "12                        0.999  \n",
       "13                        1.000  \n",
       "14                        1.000  \n",
       "15                        1.000  \n",
       "16                        1.000  \n",
       "17                        1.000  "
      ]
     },
     "execution_count": 101,
     "metadata": {},
     "output_type": "execute_result"
    }
   ],
   "source": [
    "# defining learning hyperparameters and goal state\n",
    "alpha_list = [0, 0.5, 1] # learning rate\n",
    "gamma_list = [0, 0.5, 1] # set of discount rates\n",
    "scalar_list = [(0.099, 0.0999), (0.999, 0.9999)] # list of rates of decay\n",
    "epsilon = 0.9 # rate of exploration vs exploitation\n",
    "avg_cum_reward_list = []\n",
    "avg_num_timesteps_list = []\n",
    "rate_of_goal_achieved_list = []\n",
    "alphas = []\n",
    "gammas = []\n",
    "rates_of_decay = []\n",
    "final_goal_state = \"U\"\n",
    "\n",
    "# re-initializing Q\n",
    "Q = np.zeros(R.shape)\n",
    "\n",
    "\n",
    "# iterating over each alpha, gamma and rates of decay\n",
    "for alpha in alpha_list:\n",
    "    for gamma in gamma_list:\n",
    "        for scalar_explore, scalar_exploit in scalar_list:\n",
    "            alphas.append(alpha)\n",
    "            gammas.append(gamma)\n",
    "            rates_of_decay.append((scalar_explore, scalar_exploit))\n",
    "\n",
    "            # setting up lists to store performance metrics\n",
    "            cum_reward = 0\n",
    "            num_iter = 0\n",
    "            goal_achieved = 0\n",
    "\n",
    "            # Run for episodes\n",
    "            # run it for 1000 episodes and in each episode, have 500 steps to reach goal state - if not, move on to next episode\n",
    "            for episode in range(num_episodes):\n",
    "\n",
    "                # initialising starting state to E (index 4)\n",
    "                s = 4\n",
    "\n",
    "                goal_state = \"M\"\n",
    "\n",
    "                # re-initialising reward matrix\n",
    "                # updating reward matrix based on possible actions and \n",
    "                for i, j in possible_actions:\n",
    "                    if j == 12:\n",
    "                        R[i, j] = 300\n",
    "                    else:\n",
    "                        R[i, j] = -5\n",
    "\n",
    "                # have 500 steps to reach goal state\n",
    "                for timestep in range(500):\n",
    "                    # Action selection\n",
    "                    available_actions = np.where(~np.isnan(R[s]))[0]\n",
    "                    q_values = [Q[s,a] for a in available_actions]\n",
    "                    best_actions = available_actions[np.where(q_values == np.max(q_values))[0]]\n",
    "                    best_actions_q_values = [Q[s,x] for x in best_actions]\n",
    "\n",
    "                    # Epsilon-greedy\n",
    "                    # will choose exploration if random number < epsilon - choose a random action from current set of available actions \n",
    "                    if  np.random.uniform() < epsilon:\n",
    "                        a = np.random.choice(available_actions)\n",
    "                        # scaling epsilon down after every iteration so that exploration is favoured for earlier iterations and scaling it down more if previously explored\n",
    "                        epsilon *= scalar_explore\n",
    "                    # else, will choose exploitation - choose a random action from the list of best actions (i.e. highest estimated values) \n",
    "                    else:\n",
    "                        a = np.random.choice(best_actions)\n",
    "                        # scaling epsilon down after every iteration so that exploitation is favoured for later iterations and scaling it down less if previously exploited\n",
    "                        epsilon *= scalar_exploit\n",
    "\n",
    "                    # Environment updating\n",
    "                    r = R[s,a]\n",
    "                    s_old = s\n",
    "                    s = a \n",
    "\n",
    "                    # Q value updating\n",
    "                    # np.max(Q[s,:]) looks at the q values at the new state as compared to q_values which looked at q values at our old state\n",
    "                    Q[s_old,a] = Q[s_old,a] + alpha * (R[s_old,a] + gamma * np.max(Q[s,:]) - Q[s_old,a])\n",
    "\n",
    "                    # if arrive at M then change reward to -5\n",
    "                    if A[a] == \"M\" and r == 300:\n",
    "                        R[7,12] = -5\n",
    "                        R[11,12] = -5\n",
    "                        R[13,12] = -5\n",
    "                        R[17,12] = -5\n",
    "\n",
    "                        for i,j in possible_actions:\n",
    "                            if j==20:\n",
    "                                R[i,j] = 200\n",
    "                        goal_state=\"U\"\n",
    "\n",
    "\n",
    "                    # tallying cumulative reward\n",
    "                    cum_reward += r\n",
    "\n",
    "                    if S[s] == final_goal_state:\n",
    "                        goal_achieved += 1\n",
    "                        break\n",
    "\n",
    "                num_iter += timestep + 1\n",
    "\n",
    "            rate_of_goal_achieved_list.append(goal_achieved/num_episodes)\n",
    "            avg_cum_reward_list.append(cum_reward/num_episodes)\n",
    "            avg_num_timesteps_list.append(num_iter/num_episodes)\n",
    "\n",
    "\n",
    "#create dataframe to store results     \n",
    "dataset = {'Alpha': alphas, 'Gamma': gammas, 'Rates of Epsilon Decay (Explore, Exploit)': rates_of_decay, 'Average Cummulative Reward': avg_cum_reward_list, 'Average Number of Episodes': avg_num_timesteps_list, 'Rate of Reaching Goal State': rate_of_goal_achieved_list}\n",
    "df_hyper_grid = pd.DataFrame(dataset)\n",
    "df_hyper_grid"
   ]
  },
  {
   "cell_type": "markdown",
   "id": "3a193233-0ef0-4e26-940b-760eca581af7",
   "metadata": {},
   "source": [
    "# Advanced Task"
   ]
  },
  {
   "cell_type": "markdown",
   "id": "dba6e626-535a-4c55-bdaf-9fb1aa24007e",
   "metadata": {},
   "source": [
    "# Setting up the Environment - CartPole"
   ]
  },
  {
   "cell_type": "code",
   "execution_count": 2,
   "id": "b87bee39-86f9-4bd3-90c4-df314ae3bf56",
   "metadata": {},
   "outputs": [],
   "source": [
    "import gym\n",
    "env = gym.make('CartPole-v0')"
   ]
  },
  {
   "cell_type": "markdown",
   "id": "44e8a18d-129d-4d17-b17f-16d0d6421cd6",
   "metadata": {},
   "source": [
    "# State Space "
   ]
  },
  {
   "cell_type": "code",
   "execution_count": 3,
   "id": "7083085f-f3ac-4e0c-9854-af654e964459",
   "metadata": {},
   "outputs": [
    {
     "data": {
      "text/html": [
       "<div>\n",
       "<style scoped>\n",
       "    .dataframe tbody tr th:only-of-type {\n",
       "        vertical-align: middle;\n",
       "    }\n",
       "\n",
       "    .dataframe tbody tr th {\n",
       "        vertical-align: top;\n",
       "    }\n",
       "\n",
       "    .dataframe thead th {\n",
       "        text-align: right;\n",
       "    }\n",
       "</style>\n",
       "<table border=\"1\" class=\"dataframe\">\n",
       "  <thead>\n",
       "    <tr style=\"text-align: right;\">\n",
       "      <th></th>\n",
       "      <th>Cart Position (x-position)</th>\n",
       "      <th>Cart Velocity</th>\n",
       "      <th>Pole Angle (radians)</th>\n",
       "      <th>Pole Angular Velocity</th>\n",
       "    </tr>\n",
       "  </thead>\n",
       "  <tbody>\n",
       "    <tr>\n",
       "      <th>High</th>\n",
       "      <td>4.8</td>\n",
       "      <td>3.402823e+38</td>\n",
       "      <td>0.418879</td>\n",
       "      <td>3.402823e+38</td>\n",
       "    </tr>\n",
       "    <tr>\n",
       "      <th>Low</th>\n",
       "      <td>-4.8</td>\n",
       "      <td>-3.402823e+38</td>\n",
       "      <td>-0.418879</td>\n",
       "      <td>-3.402823e+38</td>\n",
       "    </tr>\n",
       "  </tbody>\n",
       "</table>\n",
       "</div>"
      ],
      "text/plain": [
       "      Cart Position (x-position)  Cart Velocity  Pole Angle (radians)  \\\n",
       "High                         4.8   3.402823e+38              0.418879   \n",
       "Low                         -4.8  -3.402823e+38             -0.418879   \n",
       "\n",
       "      Pole Angular Velocity  \n",
       "High           3.402823e+38  \n",
       "Low           -3.402823e+38  "
      ]
     },
     "execution_count": 3,
     "metadata": {},
     "output_type": "execute_result"
    }
   ],
   "source": [
    "obs_space_high = env.observation_space.high\n",
    "obs_space_low = env.observation_space.low\n",
    "\n",
    "pd.DataFrame([obs_space_high, obs_space_low], index=[\"High\", \"Low\"], columns=[\"Cart Position (x-position)\", \"Cart Velocity\", \"Pole Angle (radians)\", \"Pole Angular Velocity\"])"
   ]
  },
  {
   "cell_type": "markdown",
   "id": "2155d8d0-dcc6-44af-a2bf-9204c341d78a",
   "metadata": {},
   "source": [
    "Observations of the states consist of 4 metrics: Cart Position, Cart Velocity, Pole Angle and Pole Angular Velocity.\n",
    "\n",
    "Table above also shows the bounds of each value."
   ]
  },
  {
   "cell_type": "markdown",
   "id": "47fc14e5-62d8-4f2b-9d5c-dd15f93d7af9",
   "metadata": {},
   "source": [
    "# Action Space "
   ]
  },
  {
   "cell_type": "code",
   "execution_count": 4,
   "id": "fdb7c111-6a75-4e31-8baa-c8ec0c0c422e",
   "metadata": {},
   "outputs": [
    {
     "name": "stdout",
     "output_type": "stream",
     "text": [
      "Number of actions available: 2\n"
     ]
    }
   ],
   "source": [
    "print(\"Number of actions available: {0}\".format(env.action_space.n))"
   ]
  },
  {
   "cell_type": "markdown",
   "id": "7e00a522-e0e0-478f-8c9e-413b8e3db36e",
   "metadata": {},
   "source": [
    "Action space consists of 2 actions: move left (corresponding to 0) or right (corresponding to 1)"
   ]
  },
  {
   "cell_type": "markdown",
   "id": "c464d529-d4da-4675-be2e-1e9758ad409c",
   "metadata": {},
   "source": [
    "# Testing the Environment"
   ]
  },
  {
   "cell_type": "code",
   "execution_count": 5,
   "id": "9923e561-8a4d-440f-ae3f-653c619b24dd",
   "metadata": {},
   "outputs": [
    {
     "data": {
      "text/plain": [
       "Text(0.5, 1.0, 'Accumulated Reward by Episodes')"
      ]
     },
     "execution_count": 5,
     "metadata": {},
     "output_type": "execute_result"
    },
    {
     "data": {
      "image/png": "[encoded data removed]",
      "text/plain": [
       "<Figure size 1440x360 with 1 Axes>"
      ]
     },
     "metadata": {
      "needs_background": "light"
     },
     "output_type": "display_data"
    }
   ],
   "source": [
    "accum_reward_list = []\n",
    "num_episodes = 20\n",
    "\n",
    "# taking random actions until terminal over 20 episodes\n",
    "for episode in range(num_episodes):\n",
    "    observation, done, accum_reward = env.reset(), False, 0\n",
    "    while done != True:\n",
    "        env.render()\n",
    "        action = env.action_space.sample() # taking a random action, sampled from the action space\n",
    "        observation, reward, done, info = env.step(action) # recording the observation, reward and if we're done for the episode\n",
    "        accum_reward += reward # sum up the rewards\n",
    "    accum_reward_list.append(accum_reward) # append it onto list of rewards for each episode\n",
    "    \n",
    "\n",
    "# plotting the rewards by episodes\n",
    "fig = plt.figure(figsize=(20, 5))\n",
    "plt.scatter(range(num_episodes), accum_reward_list)\n",
    "plt.xlabel(\"Episodes\")\n",
    "plt.ylabel(\"Accumulated Reward\")\n",
    "plt.title(\"Accumulated Reward by Episodes\")"
   ]
  },
  {
   "cell_type": "markdown",
   "id": "04d822b1-9f8c-497f-8d0e-71af25dbe6f2",
   "metadata": {},
   "source": [
    "# Setting up Q-Network"
   ]
  },
  {
   "cell_type": "code",
   "execution_count": 3,
   "id": "28dd9b9a-3813-4a29-acaa-8dab1056058a",
   "metadata": {},
   "outputs": [],
   "source": [
    "import torch\n",
    "import torch.nn as nn\n",
    "import torch.optim as optim\n",
    "import torch.nn.functional as F\n",
    "\n",
    "# if gpu is to be used\n",
    "device = torch.device(\"cuda\" if torch.cuda.is_available() else \"cpu\")\n",
    "\n",
    "class DQN(nn.Module):\n",
    "\n",
    "    def __init__(self, input_size, size_hidden, output_size):\n",
    "        \n",
    "        super().__init__()\n",
    "        # Q-network with 2 layers: 1 hidden and 1 output layer\n",
    "        self.fc1 = nn.Linear(input_size, size_hidden)   \n",
    "        self.out = nn.Linear(size_hidden, output_size)   \n",
    "        \n",
    "    def forward(self, x):\n",
    "        h1 = F.relu(self.fc1(x)) # input to hidden layer 1\n",
    "        output = self.out(h1) # hidden layer 1 to output\n",
    "        return output"
   ]
  },
  {
   "cell_type": "markdown",
   "id": "21d925af-c4ec-4be8-9143-f625f58ae555",
   "metadata": {},
   "source": [
    "# Setting up Replay Memory"
   ]
  },
  {
   "cell_type": "code",
   "execution_count": 4,
   "id": "5b19f2a0-76e0-48b5-8f6e-6239e0dff355",
   "metadata": {},
   "outputs": [],
   "source": [
    "from collections import namedtuple\n",
    "\n",
    "Experience = namedtuple('Experience', ('state', 'action', 'next_state', 'reward'))"
   ]
  },
  {
   "cell_type": "code",
   "execution_count": 5,
   "id": "ee4b8404-248d-4e2d-8b82-16367dc83dc9",
   "metadata": {},
   "outputs": [],
   "source": [
    "class ReplayMemory:\n",
    "\n",
    "    def __init__(self, capacity):\n",
    "        self.capacity = capacity\n",
    "        self.memory = []\n",
    "        self.push_count = 0 # to tally the number of the experiences saved \n",
    "\n",
    "    def push(self, experience):\n",
    "        \"\"\"Saves a transition.\"\"\"\n",
    "        if len(self.memory) < self.capacity:\n",
    "            self.memory.append(experience) # if there's capacity, save the experience\n",
    "        else:\n",
    "            self.memory[self.push_count % self.capacity] = experience # else, replace the oldest experience with a new one\n",
    "        self.push_count += 1 # update number of experiences saved\n",
    "\n",
    "    def sample(self, batch_size):\n",
    "        return random.sample(self.memory, batch_size) # randomly sample a batch_size number of experiences\n",
    "\n",
    "    def memory_initialised(self):\n",
    "        return len(self.memory) == self.capacity\n",
    "    \n",
    "    def able_to_sample(self, batch_size):\n",
    "        return len(self.memory) > batch_size # checks to see if we have sufficient experiences to sample a batch of experiences\n",
    "    \n",
    "    def memory_length(self):\n",
    "        return len(self.memory)\n",
    "    \n",
    "    def get_batches(self, experiences):\n",
    "        batch = Experience(*zip(*experiences))\n",
    "        \n",
    "        # Compute a mask of non-final states and concatenate the batch elements\n",
    "        non_final_mask = torch.tensor(tuple(map(lambda s: s is not None, batch.next_state)), device=device, dtype=torch.bool)\n",
    "        next_state_batch = torch.cat([s for s in batch.next_state if s is not None])\n",
    "        \n",
    "        state_batch = torch.cat(batch.state)\n",
    "        action_batch = torch.cat(batch.action).unsqueeze(1)\n",
    "        reward_batch = torch.cat(batch.reward).unsqueeze(1)\n",
    "        \n",
    "        return state_batch, action_batch, reward_batch, non_final_mask, next_state_batch"
   ]
  },
  {
   "cell_type": "markdown",
   "id": "ddf3f222-ecc6-4ca6-bb81-ae54c753b055",
   "metadata": {},
   "source": [
    "# Setting up Epsilon Greedy Policy"
   ]
  },
  {
   "cell_type": "code",
   "execution_count": 6,
   "id": "9a408712-ecd4-4bb4-af18-11ec720c6bf4",
   "metadata": {},
   "outputs": [],
   "source": [
    "class E_Greedy_Policy:\n",
    "    \n",
    "    def __init__(self, epsilon, min_epsilon, decay):\n",
    "        \n",
    "        self.epsilon = epsilon\n",
    "        self.epsilon_start = epsilon\n",
    "        self.epsilon_min = min_epsilon\n",
    "        self.decay = decay\n",
    "                \n",
    "    def update_epsilon(self):\n",
    "        \n",
    "        self.epsilon = self.epsilon*self.decay\n",
    "        if self.epsilon < self.epsilon_min:\n",
    "            self.epsilon = self.epsilon_min\n",
    "    \n",
    "    def reset(self):\n",
    "        self.epsilon = self.epsilon_start # reset epsilon"
   ]
  },
  {
   "cell_type": "markdown",
   "id": "c660cf81-9386-4773-b61c-daff9448e18f",
   "metadata": {},
   "source": [
    "# Setting up Agent"
   ]
  },
  {
   "cell_type": "code",
   "execution_count": 7,
   "id": "8946a6aa-13df-4679-9347-1e25ed85e0ad",
   "metadata": {},
   "outputs": [],
   "source": [
    "class Agent:\n",
    "    \n",
    "    def __init__(self, behaviour_policy, num_actions):\n",
    "        self.behaviour_policy = behaviour_policy\n",
    "        self.num_actions = num_actions\n",
    "        \n",
    "    def select_action(self, state, policy_network): \n",
    "        if  np.random.uniform() < self.behaviour_policy.epsilon: # explore\n",
    "            return random.randrange(self.num_actions) # select random action\n",
    "        else:                                                    # exploit\n",
    "            with torch.no_grad():\n",
    "                return policy_network(torch.from_numpy(state).unsqueeze(0)).argmax(dim=1).item() # select greedy action\n",
    "    \n",
    "    \n",
    "    def optimise_model(self, policy_network, optimizer, state_batch, action_batch, reward_batch, non_final_mask, next_state_batch):\n",
    "        # compute Q_values\n",
    "        Q_values = policy_network(state_batch).gather(1, action_batch)\n",
    "        \n",
    "        # Compute next Q values\n",
    "        next_Q_values = torch.zeros( BATCH_SIZE, device=device)\n",
    "        next_Q_values[non_final_mask] = policy_network(next_state_batch).max(1)[0].detach()\n",
    "        next_Q_values = next_Q_values.unsqueeze(1)\n",
    "        \n",
    "        # Compute targets\n",
    "        target_Q_values = (next_Q_values * GAMMA) + reward_batch\n",
    "    \n",
    "        # Compute MSE Loss\n",
    "        loss = F.mse_loss(Q_values, target_Q_values)\n",
    "    \n",
    "        # Optimise the model\n",
    "        optimizer.zero_grad()\n",
    "        loss.backward()\n",
    "    \n",
    "        # gradient clipping to ensure stability \n",
    "        for param in policy_network.parameters():\n",
    "            param.grad.data.clamp_(-1, 1)\n",
    "        \n",
    "        optimizer.step()"
   ]
  },
  {
   "cell_type": "markdown",
   "id": "123c166d-ead0-4eae-9022-b4f607a140cc",
   "metadata": {},
   "source": [
    "# Setting Up Hyperparameters and Creating Instances of Classes"
   ]
  },
  {
   "cell_type": "code",
   "execution_count": 85,
   "id": "d7e6de8f-ebed-4399-9e76-3398d178b875",
   "metadata": {},
   "outputs": [],
   "source": [
    "# specifying hyperparameters\n",
    "num_episodes = 1000\n",
    "CAPACITY = 100000\n",
    "BATCH_SIZE = 256\n",
    "GAMMA = 0.999\n",
    "HIDDEN_SIZE = 64\n",
    "TARGET_UPDATE = 10\n",
    "\n",
    "# creating instances of classes\n",
    "env = gym.make('CartPole-v0') # creating environment\n",
    "num_states = env.observation_space.shape[0] # number of states = size of observation spae\n",
    "num_actions = env.action_space.n # number of actions = size of action space\n",
    "\n",
    "policy_network = DQN(num_states, HIDDEN_SIZE, num_actions).to(device) # creating policy network: 2 layered DQN with 1 hidden layer with 64 neurons\n",
    "\n",
    "optimizer = optim.Adam(policy_network.parameters(), lr=0.01) # using ADAM as optimizer\n",
    "behaviour_policy = E_Greedy_Policy(1, 0.001, 0.999) # epsilon greedy policy with starting epsilon of 1, minimum epsilon of 0.001 and decay by 0.999 each episode\n",
    "memory = ReplayMemory(CAPACITY) # memory with capacity of 10,000\n",
    "agent = Agent(behaviour_policy, num_actions) # setting up agent with epsilon greedy policy and number of actions it can take"
   ]
  },
  {
   "cell_type": "markdown",
   "id": "0e86e66e-5197-4fbb-9c74-9af5b78631b8",
   "metadata": {},
   "source": [
    "# Initialising Memory"
   ]
  },
  {
   "cell_type": "code",
   "execution_count": 86,
   "id": "d8820662-44f3-4748-bca7-7808e867ebf4",
   "metadata": {},
   "outputs": [
    {
     "name": "stdout",
     "output_type": "stream",
     "text": [
      "Done with intialising the memory\n"
     ]
    }
   ],
   "source": [
    "# Initialising memory to our capacity\n",
    "while not memory.memory_initialised():\n",
    "    state = env.reset() # reset the environment for each episode\n",
    "    done = False \n",
    "    while not done:\n",
    "        action = agent.select_action(state, policy_network) # select an action by behaviour policy (i.e. explore or exploit)\n",
    "        next_state, reward, done, _ = env.step(action) # take the action in the environment \n",
    "        # Observe new state\n",
    "        if done:\n",
    "            next_state = None\n",
    "            experience = Experience(torch.tensor(state).unsqueeze(0), torch.tensor(action).unsqueeze(0), next_state, torch.tensor(float(reward)).unsqueeze(0)) # creating experience tuple if next state is None\n",
    "        else:\n",
    "            experience = Experience(torch.tensor(state).unsqueeze(0), torch.tensor(action).unsqueeze(0), torch.tensor(next_state).unsqueeze(0), torch.tensor(float(reward)).unsqueeze(0)) # if next state is not none\n",
    "        memory.push(experience) # Store the transition in memory\n",
    "        state = next_state # move to next state\n",
    "print('Done with intialising the memory')"
   ]
  },
  {
   "cell_type": "markdown",
   "id": "78329c50-cf42-4cf3-b8d9-0fc0149f11d2",
   "metadata": {},
   "source": [
    "# Implementing Vanilla DQN"
   ]
  },
  {
   "cell_type": "code",
   "execution_count": 87,
   "id": "891ed92e-8ce8-4745-92d3-fcfd4eba3e01",
   "metadata": {},
   "outputs": [
    {
     "name": "stdout",
     "output_type": "stream",
     "text": [
      "Done training\n"
     ]
    },
    {
     "data": {
      "image/png": "[encoded data removed]",
      "text/plain": [
       "<Figure size 1440x360 with 1 Axes>"
      ]
     },
     "metadata": {
      "needs_background": "light"
     },
     "output_type": "display_data"
    }
   ],
   "source": [
    "reward_list = []\n",
    "total_reward = 0\n",
    "\n",
    "# iterate over num_episodes number of episodes\n",
    "for episode in range(num_episodes):\n",
    "    state = env.reset() # reset the environment for each episode\n",
    "    done = False \n",
    "    while not done:\n",
    "#         env.render()\n",
    "        action = agent.select_action(state, policy_network) # select an action by behaviour policy (i.e. explore or exploit)\n",
    "        next_state, reward, done, _ = env.step(action) # take the action in the environment \n",
    "        total_reward += reward\n",
    "        # Observe new state\n",
    "        if done:\n",
    "            next_state = None\n",
    "            experience = Experience(torch.tensor(state).unsqueeze(0), torch.tensor(action).unsqueeze(0), next_state, torch.tensor(float(reward)).unsqueeze(0)) # account for if next state is None\n",
    "        else:\n",
    "            experience = Experience(torch.tensor(state).unsqueeze(0), torch.tensor(action).unsqueeze(0), torch.tensor(next_state).unsqueeze(0), torch.tensor(float(reward)).unsqueeze(0)) # if next state is not none\n",
    "        memory.push(experience) # Store the transition in memory\n",
    "        state = next_state # move to next state \n",
    "        \n",
    "        # optimize the model by updating the weights\n",
    "        # sample from memory of experiences\n",
    "        sample_experiences = memory.sample(BATCH_SIZE)\n",
    "        state_batch, action_batch, reward_batch, non_final_mask, next_state_batch = memory.get_batches(sample_experiences)\n",
    "        # get q-values, next state q-values and update weights\n",
    "        agent.optimise_model(policy_network, optimizer, state_batch, action_batch, reward_batch, non_final_mask, next_state_batch) \n",
    "        behaviour_policy.update_epsilon() # epsilon decay\n",
    "    reward_list.append(total_reward/(episode+1)) # store reward to plot\n",
    "print(\"Done training\")\n",
    "env.close()\n",
    "\n",
    "# plotting the rewards by episodes\n",
    "fig = plt.figure(figsize=(20, 5))\n",
    "plt.scatter(range(num_episodes), reward_list)\n",
    "plt.xlabel(\"Episodes\")\n",
    "plt.ylabel(\"Reward per Episode\")\n",
    "plt.title(\"Reward by Episodes\")\n",
    "plt.show()"
   ]
  },
  {
   "cell_type": "markdown",
   "id": "cd6bb183-96bd-4e7a-ab06-38a1ea3ac9b8",
   "metadata": {},
   "source": [
    "# Implementing Dual Network"
   ]
  },
  {
   "cell_type": "markdown",
   "id": "1e9e8084-47ae-44cb-95ce-dc723499cc88",
   "metadata": {},
   "source": [
    "## Agent"
   ]
  },
  {
   "cell_type": "code",
   "execution_count": 44,
   "id": "8400e9e2-f6bf-4e89-ba59-ddf0c9ba5401",
   "metadata": {
    "tags": []
   },
   "outputs": [],
   "source": [
    "class dual_agent:\n",
    "    \n",
    "    def __init__(self, behaviour_policy, num_actions):\n",
    "        self.behaviour_policy = behaviour_policy\n",
    "        self.num_actions = num_actions\n",
    "        \n",
    "    def select_action(self, state, policy_network): \n",
    "        if  np.random.uniform() < self.behaviour_policy.epsilon: # explore\n",
    "            return random.randrange(self.num_actions) # select random action\n",
    "        else:  # exploit\n",
    "            with torch.no_grad():\n",
    "                return policy_network(torch.from_numpy(state).unsqueeze(0)).argmax(dim=1).item() # select greedy action\n",
    "    \n",
    "    \n",
    "    def optimise_model(self, policy_network, target_network, optimizer, state_batch, action_batch, reward_batch, non_final_mask, next_state_batch):\n",
    "        # compute Q_values\n",
    "        Q_values = policy_network(state_batch).gather(1, action_batch)\n",
    "        \n",
    "        # Compute next Q values\n",
    "        next_Q_values = torch.zeros( BATCH_SIZE, device=device)\n",
    "        next_Q_values[non_final_mask] = target_network(next_state_batch).max(1)[0].detach()\n",
    "        next_Q_values = next_Q_values.unsqueeze(1)\n",
    "        \n",
    "        # Compute targets\n",
    "        target_Q_values = (next_Q_values * GAMMA) + reward_batch\n",
    "    \n",
    "        # Compute MSE Loss\n",
    "        loss = F.mse_loss(Q_values, target_Q_values)\n",
    "    \n",
    "        # Optimise the model\n",
    "        optimizer.zero_grad()\n",
    "        loss.backward()\n",
    "    \n",
    "        # gradient clipping to ensure stability \n",
    "        for param in policy_network.parameters():\n",
    "            param.grad.data.clamp_(-1, 1)\n",
    "        \n",
    "        optimizer.step()"
   ]
  },
  {
   "cell_type": "markdown",
   "id": "41f2b4eb-6f26-4f0b-8aab-fff83accecd7",
   "metadata": {},
   "source": [
    "## Hyperparameters and Instances of Classes"
   ]
  },
  {
   "cell_type": "code",
   "execution_count": 74,
   "id": "229b7323-323c-4f5b-9202-f9dea982e700",
   "metadata": {},
   "outputs": [],
   "source": [
    "# specifying hyperparameters\n",
    "num_episodes = 1000\n",
    "CAPACITY = 100000\n",
    "BATCH_SIZE = 256\n",
    "GAMMA = 0.999\n",
    "HIDDEN_SIZE = 64\n",
    "TARGET_UPDATE = 10\n",
    "\n",
    "# creating instances of classes\n",
    "env = gym.make('CartPole-v0') # creating environment\n",
    "num_states = env.observation_space.shape[0] # number of states = size of observation spae\n",
    "num_actions = env.action_space.n # number of actions = size of action space\n",
    "\n",
    "policy_network = DQN(num_states, HIDDEN_SIZE, num_actions).to(device) # creating policy network: 2 layered DQN with 1 hidden layer with 64 neurons\n",
    "\n",
    "target_network = DQN(num_states, HIDDEN_SIZE, num_actions).to(device) # creating target network\n",
    "target_network.load_state_dict(policy_network.state_dict()) # set weights of target network to be the same as policy_network\n",
    "target_network.eval() # set to evaluation mode\n",
    "\n",
    "optimizer = optim.Adam(policy_network.parameters(), lr=0.01) # using ADAM as optimizer\n",
    "behaviour_policy = E_Greedy_Policy(1, 0.001, 0.999) # epsilon greedy policy with starting epsilon of 1, minimum epsilon of 0.001 and decay by 0.999 each episode\n",
    "memory = ReplayMemory(CAPACITY) # memory with capacity of 10,000\n",
    "agent = dual_agent(behaviour_policy, num_actions) # setting up agent with epsilon greedy policy and number of actions it can take"
   ]
  },
  {
   "cell_type": "markdown",
   "id": "4ed8b44c-c55f-40c9-8f14-7e40dde937db",
   "metadata": {},
   "source": [
    "## Re-Initialising Memory"
   ]
  },
  {
   "cell_type": "code",
   "execution_count": 75,
   "id": "e38c7670-c05e-4438-8acd-1776e45d992c",
   "metadata": {},
   "outputs": [
    {
     "name": "stdout",
     "output_type": "stream",
     "text": [
      "Done with intialising the memory\n"
     ]
    }
   ],
   "source": [
    "# Initialising memory to our capcity\n",
    "while not memory.memory_initialised():\n",
    "    state = env.reset() # reset the environment for each episode\n",
    "    done = False \n",
    "    while not done:\n",
    "        action = agent.select_action(state, policy_network) # select an action by behaviour policy (i.e. explore or exploit)\n",
    "        next_state, reward, done, _ = env.step(action) # take the action in the environment \n",
    "        # Observe new state\n",
    "        if done:\n",
    "            next_state = None\n",
    "            experience = Experience(torch.tensor(state).unsqueeze(0), torch.tensor(action).unsqueeze(0), next_state, torch.tensor(float(reward)).unsqueeze(0)) # creating experience tuple if next state is None\n",
    "        else:\n",
    "            experience = Experience(torch.tensor(state).unsqueeze(0), torch.tensor(action).unsqueeze(0), torch.tensor(next_state).unsqueeze(0), torch.tensor(float(reward)).unsqueeze(0)) # if next state is not none\n",
    "        memory.push(experience) # Store the transition in memory\n",
    "        state = next_state # move to next state\n",
    "print('Done with intialising the memory')"
   ]
  },
  {
   "cell_type": "markdown",
   "id": "14d61701-2c12-4ceb-b735-1c36a379bd5f",
   "metadata": {},
   "source": [
    "## Training"
   ]
  },
  {
   "cell_type": "code",
   "execution_count": 76,
   "id": "3485efda-6ccc-48cf-9b2a-8a961ecb9fce",
   "metadata": {},
   "outputs": [
    {
     "name": "stdout",
     "output_type": "stream",
     "text": [
      "Done training\n"
     ]
    },
    {
     "data": {
      "image/png": "[encoded data removed]",
      "text/plain": [
       "<Figure size 1440x360 with 1 Axes>"
      ]
     },
     "metadata": {
      "needs_background": "light"
     },
     "output_type": "display_data"
    }
   ],
   "source": [
    "reward_list_double = []\n",
    "total_reward = 0\n",
    "\n",
    "# iterate over num_episodes number of episodes\n",
    "for episode in range(num_episodes):\n",
    "    state = env.reset() # reset the environment for each episode\n",
    "    done = False \n",
    "    while not done:\n",
    "#         env.render()\n",
    "        action = agent.select_action(state, policy_network) # select an action by behaviour policy (i.e. explore or exploit)\n",
    "        next_state, reward, done, _ = env.step(action) # take the action in the environment \n",
    "        total_reward += reward\n",
    "        # Observe new state\n",
    "        if done:\n",
    "            next_state = None\n",
    "            experience = Experience(torch.tensor(state).unsqueeze(0), torch.tensor(action).unsqueeze(0), next_state, torch.tensor(float(reward)).unsqueeze(0)) # account for if next state is None\n",
    "        else:\n",
    "            experience = Experience(torch.tensor(state).unsqueeze(0), torch.tensor(action).unsqueeze(0), torch.tensor(next_state).unsqueeze(0), torch.tensor(float(reward)).unsqueeze(0)) # if next state is not none\n",
    "        memory.push(experience) # Store the transition in memory\n",
    "        state = next_state # move to next state \n",
    "        \n",
    "        # optimize the model by updating the weights\n",
    "        # sample from memory of experiences\n",
    "        sample_experiences = memory.sample(BATCH_SIZE)\n",
    "        state_batch, action_batch, reward_batch, non_final_mask, next_state_batch = memory.get_batches(sample_experiences)\n",
    "        # get q-values, next state q-values and update weights\n",
    "        agent.optimise_model(policy_network, target_network, optimizer, state_batch, action_batch, reward_batch, non_final_mask, next_state_batch) \n",
    "        behaviour_policy.update_epsilon() # epislon decay\n",
    "    reward_list_double.append(total_reward/(episode+1)) # store average cumulative reward to plot\n",
    "\n",
    "    # Update the target network, copying all weights and biases in DQN, every TARGT UPDATE number of episodes\n",
    "    if episode % TARGET_UPDATE == 0:\n",
    "        target_network.load_state_dict(policy_network.state_dict())\n",
    "        \n",
    "print(\"Done training\")\n",
    "env.close()\n",
    "\n",
    "# plotting the rewards by episodes\n",
    "fig = plt.figure(figsize=(20, 5))\n",
    "plt.scatter(range(num_episodes), reward_list_double)\n",
    "plt.xlabel(\"Episodes\")\n",
    "plt.ylabel(\"Reward per Episode\")\n",
    "plt.title(\"Reward by Episodes\")\n",
    "plt.show()"
   ]
  },
  {
   "cell_type": "markdown",
   "id": "e25d5a2e-d760-4609-bb50-52281793ca28",
   "metadata": {},
   "source": [
    "# Implementing Dueling DQN"
   ]
  },
  {
   "cell_type": "markdown",
   "id": "6f3e8977-59b5-47e7-b77c-c7f0c4d15b58",
   "metadata": {},
   "source": [
    "## Dueling DQN"
   ]
  },
  {
   "cell_type": "code",
   "execution_count": 8,
   "id": "92871e83-b96f-4d2c-974b-cdb56c915a75",
   "metadata": {},
   "outputs": [],
   "source": [
    "class Dueling_DQN(nn.Module):\n",
    "\n",
    "    def __init__(self, input_size, size_hidden, output_size):\n",
    "        \n",
    "        super().__init__()\n",
    "        # Q-network with 2 layers: 1 hidden and 1 output layer\n",
    "        self.value_stream = nn.Sequential(nn.Linear(input_size, size_hidden), nn.ReLU(), nn.Linear(size_hidden, 1))\n",
    "        self.advantage_stream = nn.Sequential(nn.Linear(input_size, size_hidden), nn.ReLU(), nn.Linear(size_hidden, output_size))\n",
    "\n",
    "    def forward(self, state):\n",
    "        value = self.value_stream(state)\n",
    "        advantage = self.advantage_stream(state)\n",
    "        qval = value + (advantage - advantage.mean())\n",
    "        \n",
    "        return qval"
   ]
  },
  {
   "cell_type": "markdown",
   "id": "beb7b926-4f4b-4daa-a92f-e29ef3537699",
   "metadata": {},
   "source": [
    "## Hyperparameters and Instances of Classes"
   ]
  },
  {
   "cell_type": "code",
   "execution_count": 66,
   "id": "b948e22e-4579-4f3a-8b9c-91e8f8e4db40",
   "metadata": {},
   "outputs": [],
   "source": [
    "# specifying hyperparameters\n",
    "num_episodes = 1000\n",
    "CAPACITY = 100000\n",
    "BATCH_SIZE = 256\n",
    "GAMMA = 0.999\n",
    "HIDDEN_SIZE = 64\n",
    "\n",
    "# creating instances of classes\n",
    "env = gym.make('CartPole-v0') # creating environment\n",
    "num_states = env.observation_space.shape[0] # number of states = size of observation spae\n",
    "num_actions = env.action_space.n # number of actions = size of action space\n",
    "\n",
    "policy_network = Dueling_DQN(num_states, HIDDEN_SIZE, num_actions).to(device) # creating dueling dqn\n",
    "\n",
    "optimizer = optim.Adam(policy_network.parameters(), lr=0.01) # using ADAM as optimizer\n",
    "behaviour_policy = E_Greedy_Policy(1, 0.001, 0.999) # epsilon greedy policy with starting epsilon of 1, minimum epsilon of 0.001 and decay by 0.999 each episode\n",
    "memory = ReplayMemory(CAPACITY) # memory with capacity of 10,000\n",
    "agent = Agent(behaviour_policy, num_actions) # setting up agent with epsilon greedy policy and number of actions it can take"
   ]
  },
  {
   "cell_type": "markdown",
   "id": "b972d334-8ecf-4207-9a88-007c42d45bac",
   "metadata": {},
   "source": [
    "## Re-Initialising Memory"
   ]
  },
  {
   "cell_type": "code",
   "execution_count": 67,
   "id": "ec963b0d-8d19-48f4-8248-55a3d5cd71f0",
   "metadata": {},
   "outputs": [
    {
     "name": "stdout",
     "output_type": "stream",
     "text": [
      "Done with intialising the memory\n"
     ]
    }
   ],
   "source": [
    "# Initialising memory to our batch size\n",
    "while not memory.memory_initialised():\n",
    "    state = env.reset() # reset the environment for each episode\n",
    "    done = False \n",
    "    while not done:\n",
    "        action = agent.select_action(state, policy_network) # select an action by behaviour policy (i.e. explore or exploit)\n",
    "        next_state, reward, done, _ = env.step(action) # take the action in the environment \n",
    "        # Observe new state\n",
    "        if done:\n",
    "            next_state = None\n",
    "            experience = Experience(torch.tensor(state).unsqueeze(0), torch.tensor(action).unsqueeze(0), next_state, torch.tensor(float(reward)).unsqueeze(0)) # creating experience tuple if next state is None\n",
    "        else:\n",
    "            experience = Experience(torch.tensor(state).unsqueeze(0), torch.tensor(action).unsqueeze(0), torch.tensor(next_state).unsqueeze(0), torch.tensor(float(reward)).unsqueeze(0)) # if next state is not none\n",
    "        memory.push(experience) # Store the transition in memory\n",
    "        state = next_state # move to next state\n",
    "print('Done with intialising the memory')"
   ]
  },
  {
   "cell_type": "markdown",
   "id": "8804e8a5-28de-4492-8ff1-8a5e0766524e",
   "metadata": {},
   "source": [
    "## Training"
   ]
  },
  {
   "cell_type": "code",
   "execution_count": 68,
   "id": "12b30321-134c-4d80-85ba-02980bd77328",
   "metadata": {},
   "outputs": [
    {
     "name": "stdout",
     "output_type": "stream",
     "text": [
      "Done training\n"
     ]
    },
    {
     "data": {
      "image/png": "[encoded data removed]",
      "text/plain": [
       "<Figure size 1440x360 with 1 Axes>"
      ]
     },
     "metadata": {
      "needs_background": "light"
     },
     "output_type": "display_data"
    }
   ],
   "source": [
    "reward_list_dueling = []\n",
    "total_reward = 0\n",
    "\n",
    "# print(list(policy_network.parameters())[0])\n",
    "# iterate over num_episodes number of episodes\n",
    "for episode in range(num_episodes):\n",
    "    state = env.reset() # reset the environment for each episode\n",
    "    done = False \n",
    "    while not done:\n",
    "#         env.render()\n",
    "        action = agent.select_action(state, policy_network) # select an action by behaviour policy (i.e. explore or exploit)\n",
    "        next_state, reward, done, _ = env.step(action) # take the action in the environment \n",
    "        total_reward += reward\n",
    "        # Observe new state\n",
    "        if done:\n",
    "            next_state = None\n",
    "            experience = Experience(torch.tensor(state).unsqueeze(0), torch.tensor(action).unsqueeze(0), next_state, torch.tensor(float(reward)).unsqueeze(0)) # account for if next state is None\n",
    "        else:\n",
    "            experience = Experience(torch.tensor(state).unsqueeze(0), torch.tensor(action).unsqueeze(0), torch.tensor(next_state).unsqueeze(0), torch.tensor(float(reward)).unsqueeze(0)) # if next state is not none\n",
    "        memory.push(experience) # Store the transition in memory\n",
    "        state = next_state # move to next state \n",
    "        \n",
    "        # optimize the model by updating the weights\n",
    "        # sample from memory of experiences\n",
    "        sample_experiences = memory.sample(BATCH_SIZE)\n",
    "        state_batch, action_batch, reward_batch, non_final_mask, next_state_batch = memory.get_batches(sample_experiences)\n",
    "        # get q-values, next state q-values and update weights\n",
    "        agent.optimise_model(policy_network, optimizer, state_batch, action_batch, reward_batch, non_final_mask, next_state_batch) \n",
    "        behaviour_policy.update_epsilon() # epislon decay\n",
    "    reward_list_dueling.append(total_reward/(episode+1)) # store average cumulative reward to plot\n",
    "        \n",
    "print(\"Done training\")\n",
    "env.close()\n",
    "\n",
    "# plotting the rewards by episodes\n",
    "fig = plt.figure(figsize=(20, 5))\n",
    "plt.scatter(range(num_episodes), reward_list_dueling)\n",
    "plt.xlabel(\"Episodes\")\n",
    "plt.ylabel(\"Reward per Episode\")\n",
    "plt.title(\"Reward by Episodes\")\n",
    "plt.show()"
   ]
  },
  {
   "cell_type": "markdown",
   "id": "8b1c77fc-3ea8-4282-9b36-a6c5a1a5b4cb",
   "metadata": {},
   "source": [
    "# Implementing Dueling Double DQN"
   ]
  },
  {
   "cell_type": "markdown",
   "id": "88637155-81f5-44e2-9380-06b7163be11b",
   "metadata": {},
   "source": [
    "## Hyperparameters and Instances of Classes"
   ]
  },
  {
   "cell_type": "code",
   "execution_count": 78,
   "id": "18751853-8fb2-43bf-9961-0862f84e1ba1",
   "metadata": {},
   "outputs": [],
   "source": [
    "# specifying hyperparameters\n",
    "num_episodes = 1000\n",
    "CAPACITY = 100000\n",
    "BATCH_SIZE = 256\n",
    "GAMMA = 0.999\n",
    "HIDDEN_SIZE = 64\n",
    "TARGET_UPDATE = 10\n",
    "\n",
    "# creating instances of classes\n",
    "env = gym.make('CartPole-v0') # creating environment\n",
    "num_states = env.observation_space.shape[0] # number of states = size of observation spae\n",
    "num_actions = env.action_space.n # number of actions = size of action space\n",
    "\n",
    "policy_network = Dueling_DQN(num_states, HIDDEN_SIZE, num_actions).to(device) # creating policy network: 2 layered DQN with 1 hidden layer with 64 neurons\n",
    "\n",
    "target_network = Dueling_DQN(num_states, HIDDEN_SIZE, num_actions).to(device) # creating target network\n",
    "target_network.load_state_dict(policy_network.state_dict()) # set weights of target network to be the same as policy_network\n",
    "target_network.eval() # set to evaluation mode\n",
    "\n",
    "optimizer = optim.Adam(policy_network.parameters(), lr=0.01) # using ADAM as optimizer\n",
    "behaviour_policy = E_Greedy_Policy(1, 0.001, 0.999) # epsilon greedy policy with starting epsilon of 1, minimum epsilon of 0.001 and decay by 0.999 each episode\n",
    "memory = ReplayMemory(CAPACITY) # memory with capacity of 10,000\n",
    "agent = dual_agent(behaviour_policy, num_actions) # setting up agent with epsilon greedy policy and number of actions it can take"
   ]
  },
  {
   "cell_type": "markdown",
   "id": "39f3a227-ca3f-4468-bb33-b3d5a4bdb9e8",
   "metadata": {},
   "source": [
    "## Re-Initialising Memory"
   ]
  },
  {
   "cell_type": "code",
   "execution_count": 79,
   "id": "f8044cfa-07ef-4642-8aa2-4e3659fd7e99",
   "metadata": {},
   "outputs": [
    {
     "name": "stdout",
     "output_type": "stream",
     "text": [
      "Done with intialising the memory\n"
     ]
    }
   ],
   "source": [
    "# Initialising memory to our capacity\n",
    "while not memory.memory_initialised():\n",
    "    state = env.reset() # reset the environment for each episode\n",
    "    done = False \n",
    "    while not done:\n",
    "        action = agent.select_action(state, policy_network) # select an action by behaviour policy (i.e. explore or exploit)\n",
    "        next_state, reward, done, _ = env.step(action) # take the action in the environment \n",
    "        # Observe new state\n",
    "        if done:\n",
    "            next_state = None\n",
    "            experience = Experience(torch.tensor(state).unsqueeze(0), torch.tensor(action).unsqueeze(0), next_state, torch.tensor(float(reward)).unsqueeze(0)) # creating experience tuple if next state is None\n",
    "        else:\n",
    "            experience = Experience(torch.tensor(state).unsqueeze(0), torch.tensor(action).unsqueeze(0), torch.tensor(next_state).unsqueeze(0), torch.tensor(float(reward)).unsqueeze(0)) # if next state is not none\n",
    "        memory.push(experience) # Store the transition in memory\n",
    "        state = next_state # move to next state\n",
    "print('Done with intialising the memory')"
   ]
  },
  {
   "cell_type": "markdown",
   "id": "1631407e-2004-4a61-9d71-8f255e6cae1b",
   "metadata": {},
   "source": [
    "## Training"
   ]
  },
  {
   "cell_type": "code",
   "execution_count": 80,
   "id": "3d3e4a34-cfb5-487e-8cf2-1cebb6144ec6",
   "metadata": {},
   "outputs": [
    {
     "name": "stdout",
     "output_type": "stream",
     "text": [
      "Done training\n"
     ]
    },
    {
     "data": {
      "image/png": "[encoded data removed]",
      "text/plain": [
       "<Figure size 1440x360 with 1 Axes>"
      ]
     },
     "metadata": {
      "needs_background": "light"
     },
     "output_type": "display_data"
    }
   ],
   "source": [
    "reward_list_dueling_double = []\n",
    "total_reward = 0\n",
    "\n",
    "# iterate over num_episodes number of episodes\n",
    "for episode in range(num_episodes):\n",
    "    state = env.reset() # reset the environment for each episode\n",
    "    done = False \n",
    "    while not done:\n",
    "#         env.render()\n",
    "        action = agent.select_action(state, policy_network) # select an action by behaviour policy (i.e. explore or exploit)\n",
    "        next_state, reward, done, _ = env.step(action) # take the action in the environment \n",
    "        total_reward += reward\n",
    "        # Observe new state\n",
    "        if done:\n",
    "            next_state = None\n",
    "            experience = Experience(torch.tensor(state).unsqueeze(0), torch.tensor(action).unsqueeze(0), next_state, torch.tensor(float(reward)).unsqueeze(0)) # account for if next state is None\n",
    "        else:\n",
    "            experience = Experience(torch.tensor(state).unsqueeze(0), torch.tensor(action).unsqueeze(0), torch.tensor(next_state).unsqueeze(0), torch.tensor(float(reward)).unsqueeze(0)) # if next state is not none\n",
    "        memory.push(experience) # Store the transition in memory\n",
    "        state = next_state # move to next state \n",
    "        \n",
    "        # optimize the model by updating the weights\n",
    "        # sample from memory of experiences\n",
    "        sample_experiences = memory.sample(BATCH_SIZE)\n",
    "        state_batch, action_batch, reward_batch, non_final_mask, next_state_batch = memory.get_batches(sample_experiences)\n",
    "        # get q-values, next state q-values and update weights\n",
    "        agent.optimise_model(policy_network, target_network, optimizer, state_batch, action_batch, reward_batch, non_final_mask, next_state_batch) \n",
    "        behaviour_policy.update_epsilon() # epislon decay\n",
    "    reward_list_dueling_double.append(total_reward/(episode+1)) # store average cumulative reward to plot\n",
    "\n",
    "    # Update the target network, copying all weights and biases in DQN, every TARGT UPDATE number of episodes\n",
    "    if episode % TARGET_UPDATE == 0:\n",
    "        target_network.load_state_dict(policy_network.state_dict())\n",
    "        \n",
    "print(\"Done training\")\n",
    "env.close()\n",
    "\n",
    "# plotting the rewards by episodes\n",
    "fig = plt.figure(figsize=(20, 5))\n",
    "plt.scatter(range(num_episodes), reward_list_dueling_double)\n",
    "plt.xlabel(\"Episodes\")\n",
    "plt.ylabel(\"Reward per Episode\")\n",
    "plt.title(\"Reward by Episodes\")\n",
    "plt.show()"
   ]
  },
  {
   "cell_type": "markdown",
   "id": "3c93b1d9-ab82-4c95-b8b5-f8b083f7cd90",
   "metadata": {},
   "source": [
    "# Comparing Results"
   ]
  },
  {
   "cell_type": "code",
   "execution_count": 88,
   "id": "a55bb1e4-ab7c-4e18-83f1-0b801e04fc65",
   "metadata": {},
   "outputs": [
    {
     "data": {
      "text/plain": [
       "<matplotlib.legend.Legend at 0x1cf9c4c2b50>"
      ]
     },
     "execution_count": 88,
     "metadata": {},
     "output_type": "execute_result"
    },
    {
     "data": {
      "image/png": "[encoded data removed]",
      "text/plain": [
       "<Figure size 1440x360 with 1 Axes>"
      ]
     },
     "metadata": {
      "needs_background": "light"
     },
     "output_type": "display_data"
    }
   ],
   "source": [
    "reward_list_dqn = [(reward_list, 'b'), (reward_list_double, 'r'), (reward_list_dueling, 'g'), (reward_list_dueling_double, 'm')]\n",
    "label = ['Standard', 'Double', 'Dueling', 'Dueling + Double']\n",
    "\n",
    "fig = plt.figure(figsize=(20, 5))\n",
    "plt.xlabel(\"Episodes\")\n",
    "plt.ylabel(\"Average Cumulative Reward\")\n",
    "plt.title(\"Average Cumulative Reward by Episodes\")\n",
    "\n",
    "for reward_lists, colour in reward_list_dqn:\n",
    "    plt.plot(range(num_episodes), reward_lists, c=colour)\n",
    "plt.legend(labels=label)"
   ]
  },
  {
   "cell_type": "markdown",
   "id": "f1ebcf6d-099b-4556-a751-39f7638b5749",
   "metadata": {},
   "source": [
    "# Hyperparameter Tuning on Dueling DQN"
   ]
  },
  {
   "cell_type": "code",
   "execution_count": 109,
   "id": "f7d78ec5-9a77-4b29-a501-caeec3b573be",
   "metadata": {},
   "outputs": [
    {
     "name": "stdout",
     "output_type": "stream",
     "text": [
      "Done with intialising the memory\n",
      "Done with intialising the memory\n",
      "Done with intialising the memory\n",
      "Done training\n"
     ]
    }
   ],
   "source": [
    "# specifying hyperparameters\n",
    "num_episodes = 1000\n",
    "CAPACITY = 100000\n",
    "BATCH_SIZES = [64, 256, 1024]\n",
    "GAMMA = 0.999\n",
    "HIDDEN_SIZE = 64\n",
    "\n",
    "reward_lists = []\n",
    "for BATCH_SIZE in BATCH_SIZES:\n",
    "    # creating instances of classes\n",
    "    env = gym.make('CartPole-v0') # creating environment\n",
    "    num_states = env.observation_space.shape[0] # number of states = size of observation spae\n",
    "    num_actions = env.action_space.n # number of actions = size of action space\n",
    "\n",
    "    policy_network = Dueling_DQN(num_states, HIDDEN_SIZE, num_actions).to(device) # creating policy network: 2 layered DQN with 1 hidden layer with 64 neurons\n",
    "\n",
    "\n",
    "    optimizer = optim.Adam(policy_network.parameters(), lr=0.01) # using ADAM as optimizer\n",
    "    behaviour_policy = E_Greedy_Policy(1, 0.001, 0.999) # epsilon greedy policy with starting epsilon of 1, minimum epsilon of 0.001 and decay by 0.999 each episode\n",
    "    memory = ReplayMemory(CAPACITY) # memory with capacity of 10,000\n",
    "    agent = Agent(behaviour_policy, num_actions) # setting up agent with epsilon greedy policy and number of actions it can take\n",
    "\n",
    "    # Initialising memory to our capacity\n",
    "    while not memory.memory_initialised():\n",
    "        state = env.reset() # reset the environment for each episode\n",
    "        done = False \n",
    "        while not done:\n",
    "            action = agent.select_action(state, policy_network) # select an action by behaviour policy (i.e. explore or exploit)\n",
    "            next_state, reward, done, _ = env.step(action) # take the action in the environment \n",
    "            # Observe new state\n",
    "            if done:\n",
    "                next_state = None\n",
    "                experience = Experience(torch.tensor(state).unsqueeze(0), torch.tensor(action).unsqueeze(0), next_state, torch.tensor(float(reward)).unsqueeze(0)) # creating experience tuple if next state is None\n",
    "            else:\n",
    "                experience = Experience(torch.tensor(state).unsqueeze(0), torch.tensor(action).unsqueeze(0), torch.tensor(next_state).unsqueeze(0), torch.tensor(float(reward)).unsqueeze(0)) # if next state is not none\n",
    "            memory.push(experience) # Store the transition in memory\n",
    "            state = next_state # move to next state\n",
    "    print('Done with intialising the memory')\n",
    "\n",
    "    reward_list_hyper = []\n",
    "    total_reward = 0\n",
    "\n",
    "    # training\n",
    "    # iterate over num_episodes number of episodes\n",
    "    for episode in range(num_episodes):\n",
    "        state = env.reset() # reset the environment for each episode\n",
    "        done = False \n",
    "        while not done:\n",
    "            action = agent.select_action(state, policy_network) # select an action by behaviour policy (i.e. explore or exploit)\n",
    "            next_state, reward, done, _ = env.step(action) # take the action in the environment \n",
    "            total_reward += reward\n",
    "            # Observe new state\n",
    "            if done:\n",
    "                next_state = None\n",
    "                experience = Experience(torch.tensor(state).unsqueeze(0), torch.tensor(action).unsqueeze(0), next_state, torch.tensor(float(reward)).unsqueeze(0)) # account for if next state is None\n",
    "            else:\n",
    "                experience = Experience(torch.tensor(state).unsqueeze(0), torch.tensor(action).unsqueeze(0), torch.tensor(next_state).unsqueeze(0), torch.tensor(float(reward)).unsqueeze(0)) # if next state is not none\n",
    "            memory.push(experience) # Store the transition in memory\n",
    "            state = next_state # move to next state \n",
    "\n",
    "            # optimize the model by updating the weights\n",
    "            # sample from memory of experiences\n",
    "            sample_experiences = memory.sample(BATCH_SIZE)\n",
    "            state_batch, action_batch, reward_batch, non_final_mask, next_state_batch = memory.get_batches(sample_experiences)\n",
    "            # get q-values, next state q-values and update weights\n",
    "            agent.optimise_model(policy_network, optimizer, state_batch, action_batch, reward_batch, non_final_mask, next_state_batch) \n",
    "            behaviour_policy.update_epsilon() # epislon decay\n",
    "        reward_list_hyper.append(total_reward/(episode+1)) # store average cumulative reward to plot\n",
    "\n",
    "    reward_lists.append(reward_list_hyper)\n",
    "        \n",
    "print(\"Done training\")\n",
    "env.close()"
   ]
  },
  {
   "cell_type": "code",
   "execution_count": 110,
   "id": "e9b1c1e7-6135-4458-a5b4-609661b09e72",
   "metadata": {},
   "outputs": [
    {
     "data": {
      "text/plain": [
       "<matplotlib.legend.Legend at 0x1cf96244580>"
      ]
     },
     "execution_count": 110,
     "metadata": {},
     "output_type": "execute_result"
    },
    {
     "data": {
      "image/png": "[encoded data removed]",
      "text/plain": [
       "<Figure size 1440x360 with 1 Axes>"
      ]
     },
     "metadata": {
      "needs_background": "light"
     },
     "output_type": "display_data"
    }
   ],
   "source": [
    "fig = plt.figure(figsize=(20, 5))\n",
    "plt.xlabel(\"Episodes\")\n",
    "plt.ylabel(\"Average Cumulative Reward\")\n",
    "plt.title(\"Average Cumulative Reward by Episodes and Batch Size\")\n",
    "\n",
    "for reward_lists_hyper in reward_lists:\n",
    "    plt.plot(range(num_episodes), reward_lists_hyper)\n",
    "plt.legend(labels=BATCH_SIZES)"
   ]
  },
  {
   "cell_type": "markdown",
   "id": "e8d11e6f-515e-44ae-9fed-9dc023e455b5",
   "metadata": {},
   "source": [
    "# Saving Video of Peformance"
   ]
  },
  {
   "cell_type": "code",
   "execution_count": 12,
   "id": "cd9eb918-7833-4849-bfd8-3594616eb591",
   "metadata": {},
   "outputs": [
    {
     "name": "stdout",
     "output_type": "stream",
     "text": [
      "Done with intialising the memory\n",
      "Done training\n"
     ]
    }
   ],
   "source": [
    "import gym\n",
    "from gym.wrappers import Monitor\n",
    "\n",
    "# specifying hyperparameters\n",
    "num_episodes = 1000\n",
    "CAPACITY = 100000\n",
    "BATCH_SIZE = 256\n",
    "GAMMA = 0.999\n",
    "HIDDEN_SIZE = 1024\n",
    "\n",
    "# creating instances of classes\n",
    "env = gym.wrappers.Monitor(gym.make('CartPole-v0'), \"./vid\", video_callable=lambda episode_id: True,force=True) # creating environment and recording video\n",
    "num_states = env.observation_space.shape[0] # number of states = size of observation spae\n",
    "num_actions = env.action_space.n # number of actions = size of action space\n",
    "\n",
    "policy_network = Dueling_DQN(num_states, HIDDEN_SIZE, num_actions).to(device) # creating dueling dqn\n",
    "\n",
    "optimizer = optim.Adam(policy_network.parameters(), lr=0.01) # using ADAM as optimizer\n",
    "behaviour_policy = E_Greedy_Policy(1, 0.001, 0.999) # epsilon greedy policy with starting epsilon of 1, minimum epsilon of 0.001 and decay by 0.999 each episode\n",
    "memory = ReplayMemory(CAPACITY) # memory with capacity of 10,000\n",
    "agent = Agent(behaviour_policy, num_actions) # setting up agent with epsilon greedy policy and number of actions it can take\n",
    "\n",
    "\n",
    "# Initialising memory to our batch size\n",
    "while not memory.memory_initialised():\n",
    "    state = env.reset() # reset the environment for each episode\n",
    "    done = False \n",
    "    while not done:\n",
    "        action = agent.select_action(state, policy_network) # select an action by behaviour policy (i.e. explore or exploit)\n",
    "        next_state, reward, done, _ = env.step(action) # take the action in the environment \n",
    "        # Observe new state\n",
    "        if done:\n",
    "            next_state = None\n",
    "            experience = Experience(torch.tensor(state).unsqueeze(0), torch.tensor(action).unsqueeze(0), next_state, torch.tensor(float(reward)).unsqueeze(0)) # creating experience tuple if next state is None\n",
    "        else:\n",
    "            experience = Experience(torch.tensor(state).unsqueeze(0), torch.tensor(action).unsqueeze(0), torch.tensor(next_state).unsqueeze(0), torch.tensor(float(reward)).unsqueeze(0)) # if next state is not none\n",
    "        memory.push(experience) # Store the transition in memory\n",
    "        state = next_state # move to next state\n",
    "print('Done with intialising the memory')\n",
    "\n",
    "\n",
    "# iterate over num_episodes number of episodes\n",
    "for episode in range(num_episodes):\n",
    "    state = env.reset() # reset the environment for each episode\n",
    "    done = False \n",
    "    while not done:\n",
    "        action = agent.select_action(state, policy_network) # select an action by behaviour policy (i.e. explore or exploit)\n",
    "        next_state, reward, done, _ = env.step(action) # take the action in the environment \n",
    "        # Observe new state\n",
    "        if done:\n",
    "            next_state = None\n",
    "            experience = Experience(torch.tensor(state).unsqueeze(0), torch.tensor(action).unsqueeze(0), next_state, torch.tensor(float(reward)).unsqueeze(0)) # account for if next state is None\n",
    "        else:\n",
    "            experience = Experience(torch.tensor(state).unsqueeze(0), torch.tensor(action).unsqueeze(0), torch.tensor(next_state).unsqueeze(0), torch.tensor(float(reward)).unsqueeze(0)) # if next state is not none\n",
    "        memory.push(experience) # Store the transition in memory\n",
    "        state = next_state # move to next state \n",
    "        \n",
    "        # optimize the model by updating the weights\n",
    "        # sample from memory of experiences\n",
    "        sample_experiences = memory.sample(BATCH_SIZE)\n",
    "        state_batch, action_batch, reward_batch, non_final_mask, next_state_batch = memory.get_batches(sample_experiences)\n",
    "        # get q-values, next state q-values and update weights\n",
    "        agent.optimise_model(policy_network, optimizer, state_batch, action_batch, reward_batch, non_final_mask, next_state_batch) \n",
    "        behaviour_policy.update_epsilon() # epislon decay\n",
    "        \n",
    "print(\"Done training\")\n",
    "env.close()"
   ]
  }
 ],
 "metadata": {
  "kernelspec": {
   "display_name": "Python 3",
   "language": "python",
   "name": "python3"
  },
  "language_info": {
   "codemirror_mode": {
    "name": "ipython",
    "version": 3
   },
   "file_extension": ".py",
   "mimetype": "text/x-python",
   "name": "python",
   "nbconvert_exporter": "python",
   "pygments_lexer": "ipython3",
   "version": "3.8.8"
  }
 },
 "nbformat": 4,
 "nbformat_minor": 5
}
